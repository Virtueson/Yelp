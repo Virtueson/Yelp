{
 "cells": [
  {
   "cell_type": "markdown",
   "id": "d2c4aa3f",
   "metadata": {},
   "source": [
    "## Collecting Data Process and Importing Library"
   ]
  },
  {
   "cell_type": "code",
   "execution_count": 1,
   "id": "43787e0b",
   "metadata": {},
   "outputs": [],
   "source": [
    "import numpy as np\n",
    "import pandas as pd\n",
    "import seaborn as sns\n",
    "import matplotlib.pyplot as plt\n",
    "import math"
   ]
  },
  {
   "cell_type": "code",
   "execution_count": 2,
   "id": "cdcd22d0",
   "metadata": {},
   "outputs": [],
   "source": [
    "df = []\n",
    "with open(\"Yelp/yelp_academic_dataset_business.json\", \"rb\") as f:\n",
    "    reader = pd.read_json(f, orient=\"records\", lines=True, \n",
    "                          chunksize=1000)\n",
    "        \n",
    "    for chunk in reader:\n",
    "        reduced_chunk = chunk.drop(columns=['postal_code'])\n",
    "                            \n",
    "        df.append(reduced_chunk)\n",
    "    \n",
    "df = pd.concat(df, ignore_index=True)"
   ]
  },
  {
   "cell_type": "code",
   "execution_count": 3,
   "id": "3628ba6c",
   "metadata": {},
   "outputs": [
    {
     "data": {
      "text/html": [
       "<div>\n",
       "<style scoped>\n",
       "    .dataframe tbody tr th:only-of-type {\n",
       "        vertical-align: middle;\n",
       "    }\n",
       "\n",
       "    .dataframe tbody tr th {\n",
       "        vertical-align: top;\n",
       "    }\n",
       "\n",
       "    .dataframe thead th {\n",
       "        text-align: right;\n",
       "    }\n",
       "</style>\n",
       "<table border=\"1\" class=\"dataframe\">\n",
       "  <thead>\n",
       "    <tr style=\"text-align: right;\">\n",
       "      <th></th>\n",
       "      <th>business_id</th>\n",
       "      <th>name</th>\n",
       "      <th>address</th>\n",
       "      <th>city</th>\n",
       "      <th>state</th>\n",
       "      <th>latitude</th>\n",
       "      <th>longitude</th>\n",
       "      <th>stars</th>\n",
       "      <th>review_count</th>\n",
       "      <th>is_open</th>\n",
       "      <th>attributes</th>\n",
       "      <th>categories</th>\n",
       "      <th>hours</th>\n",
       "    </tr>\n",
       "  </thead>\n",
       "  <tbody>\n",
       "    <tr>\n",
       "      <th>0</th>\n",
       "      <td>Pns2l4eNsfO8kk83dixA6A</td>\n",
       "      <td>Abby Rappoport, LAC, CMQ</td>\n",
       "      <td>1616 Chapala St, Ste 2</td>\n",
       "      <td>Santa Barbara</td>\n",
       "      <td>CA</td>\n",
       "      <td>34.426679</td>\n",
       "      <td>-119.711197</td>\n",
       "      <td>5.0</td>\n",
       "      <td>7</td>\n",
       "      <td>0</td>\n",
       "      <td>{'ByAppointmentOnly': 'True'}</td>\n",
       "      <td>Doctors, Traditional Chinese Medicine, Naturop...</td>\n",
       "      <td>None</td>\n",
       "    </tr>\n",
       "    <tr>\n",
       "      <th>1</th>\n",
       "      <td>mpf3x-BjTdTEA3yCZrAYPw</td>\n",
       "      <td>The UPS Store</td>\n",
       "      <td>87 Grasso Plaza Shopping Center</td>\n",
       "      <td>Affton</td>\n",
       "      <td>MO</td>\n",
       "      <td>38.551126</td>\n",
       "      <td>-90.335695</td>\n",
       "      <td>3.0</td>\n",
       "      <td>15</td>\n",
       "      <td>1</td>\n",
       "      <td>{'BusinessAcceptsCreditCards': 'True'}</td>\n",
       "      <td>Shipping Centers, Local Services, Notaries, Ma...</td>\n",
       "      <td>{'Monday': '0:0-0:0', 'Tuesday': '8:0-18:30', ...</td>\n",
       "    </tr>\n",
       "    <tr>\n",
       "      <th>2</th>\n",
       "      <td>tUFrWirKiKi_TAnsVWINQQ</td>\n",
       "      <td>Target</td>\n",
       "      <td>5255 E Broadway Blvd</td>\n",
       "      <td>Tucson</td>\n",
       "      <td>AZ</td>\n",
       "      <td>32.223236</td>\n",
       "      <td>-110.880452</td>\n",
       "      <td>3.5</td>\n",
       "      <td>22</td>\n",
       "      <td>0</td>\n",
       "      <td>{'BikeParking': 'True', 'BusinessAcceptsCredit...</td>\n",
       "      <td>Department Stores, Shopping, Fashion, Home &amp; G...</td>\n",
       "      <td>{'Monday': '8:0-22:0', 'Tuesday': '8:0-22:0', ...</td>\n",
       "    </tr>\n",
       "    <tr>\n",
       "      <th>3</th>\n",
       "      <td>MTSW4McQd7CbVtyjqoe9mw</td>\n",
       "      <td>St Honore Pastries</td>\n",
       "      <td>935 Race St</td>\n",
       "      <td>Philadelphia</td>\n",
       "      <td>PA</td>\n",
       "      <td>39.955505</td>\n",
       "      <td>-75.155564</td>\n",
       "      <td>4.0</td>\n",
       "      <td>80</td>\n",
       "      <td>1</td>\n",
       "      <td>{'RestaurantsDelivery': 'False', 'OutdoorSeati...</td>\n",
       "      <td>Restaurants, Food, Bubble Tea, Coffee &amp; Tea, B...</td>\n",
       "      <td>{'Monday': '7:0-20:0', 'Tuesday': '7:0-20:0', ...</td>\n",
       "    </tr>\n",
       "    <tr>\n",
       "      <th>4</th>\n",
       "      <td>mWMc6_wTdE0EUBKIGXDVfA</td>\n",
       "      <td>Perkiomen Valley Brewery</td>\n",
       "      <td>101 Walnut St</td>\n",
       "      <td>Green Lane</td>\n",
       "      <td>PA</td>\n",
       "      <td>40.338183</td>\n",
       "      <td>-75.471659</td>\n",
       "      <td>4.5</td>\n",
       "      <td>13</td>\n",
       "      <td>1</td>\n",
       "      <td>{'BusinessAcceptsCreditCards': 'True', 'Wheelc...</td>\n",
       "      <td>Brewpubs, Breweries, Food</td>\n",
       "      <td>{'Wednesday': '14:0-22:0', 'Thursday': '16:0-2...</td>\n",
       "    </tr>\n",
       "  </tbody>\n",
       "</table>\n",
       "</div>"
      ],
      "text/plain": [
       "              business_id                      name  \\\n",
       "0  Pns2l4eNsfO8kk83dixA6A  Abby Rappoport, LAC, CMQ   \n",
       "1  mpf3x-BjTdTEA3yCZrAYPw             The UPS Store   \n",
       "2  tUFrWirKiKi_TAnsVWINQQ                    Target   \n",
       "3  MTSW4McQd7CbVtyjqoe9mw        St Honore Pastries   \n",
       "4  mWMc6_wTdE0EUBKIGXDVfA  Perkiomen Valley Brewery   \n",
       "\n",
       "                           address           city state   latitude  \\\n",
       "0           1616 Chapala St, Ste 2  Santa Barbara    CA  34.426679   \n",
       "1  87 Grasso Plaza Shopping Center         Affton    MO  38.551126   \n",
       "2             5255 E Broadway Blvd         Tucson    AZ  32.223236   \n",
       "3                      935 Race St   Philadelphia    PA  39.955505   \n",
       "4                    101 Walnut St     Green Lane    PA  40.338183   \n",
       "\n",
       "    longitude  stars  review_count  is_open  \\\n",
       "0 -119.711197    5.0             7        0   \n",
       "1  -90.335695    3.0            15        1   \n",
       "2 -110.880452    3.5            22        0   \n",
       "3  -75.155564    4.0            80        1   \n",
       "4  -75.471659    4.5            13        1   \n",
       "\n",
       "                                          attributes  \\\n",
       "0                      {'ByAppointmentOnly': 'True'}   \n",
       "1             {'BusinessAcceptsCreditCards': 'True'}   \n",
       "2  {'BikeParking': 'True', 'BusinessAcceptsCredit...   \n",
       "3  {'RestaurantsDelivery': 'False', 'OutdoorSeati...   \n",
       "4  {'BusinessAcceptsCreditCards': 'True', 'Wheelc...   \n",
       "\n",
       "                                          categories  \\\n",
       "0  Doctors, Traditional Chinese Medicine, Naturop...   \n",
       "1  Shipping Centers, Local Services, Notaries, Ma...   \n",
       "2  Department Stores, Shopping, Fashion, Home & G...   \n",
       "3  Restaurants, Food, Bubble Tea, Coffee & Tea, B...   \n",
       "4                          Brewpubs, Breweries, Food   \n",
       "\n",
       "                                               hours  \n",
       "0                                               None  \n",
       "1  {'Monday': '0:0-0:0', 'Tuesday': '8:0-18:30', ...  \n",
       "2  {'Monday': '8:0-22:0', 'Tuesday': '8:0-22:0', ...  \n",
       "3  {'Monday': '7:0-20:0', 'Tuesday': '7:0-20:0', ...  \n",
       "4  {'Wednesday': '14:0-22:0', 'Thursday': '16:0-2...  "
      ]
     },
     "execution_count": 3,
     "metadata": {},
     "output_type": "execute_result"
    }
   ],
   "source": [
    "df.head()"
   ]
  },
  {
   "cell_type": "code",
   "execution_count": 4,
   "id": "320a8260",
   "metadata": {},
   "outputs": [
    {
     "data": {
      "text/plain": [
       "150346"
      ]
     },
     "execution_count": 4,
     "metadata": {},
     "output_type": "execute_result"
    }
   ],
   "source": [
    "len(df)"
   ]
  },
  {
   "cell_type": "code",
   "execution_count": 5,
   "id": "9ee567d8",
   "metadata": {},
   "outputs": [],
   "source": [
    "# df.to_csv(\"yelp_academic_dataset_business.csv\",index=False)"
   ]
  },
  {
   "cell_type": "markdown",
   "id": "b0dce6f5",
   "metadata": {},
   "source": [
    "## Checking outliers in stars and review count"
   ]
  },
  {
   "cell_type": "code",
   "execution_count": 6,
   "id": "b4010663",
   "metadata": {},
   "outputs": [
    {
     "data": {
      "image/png": "[encoded data removed]",
      "text/plain": [
       "<Figure size 432x288 with 1 Axes>"
      ]
     },
     "metadata": {
      "needs_background": "light"
     },
     "output_type": "display_data"
    }
   ],
   "source": [
    "df.iloc[:,7:8].boxplot(figsize =(5,8))\n",
    "plt.show()"
   ]
  },
  {
   "cell_type": "code",
   "execution_count": 7,
   "id": "5bc4bd59",
   "metadata": {},
   "outputs": [
    {
     "data": {
      "image/png": "[encoded data removed]",
      "text/plain": [
       "<Figure size 500x800 with 1 Axes>"
      ]
     },
     "metadata": {},
     "output_type": "display_data"
    }
   ],
   "source": [
    "df.iloc[:,8:9].boxplot(figsize =(5,8))\n",
    "plt.show()"
   ]
  },
  {
   "cell_type": "code",
   "execution_count": 8,
   "id": "9b1c0ed7",
   "metadata": {
    "scrolled": true
   },
   "outputs": [
    {
     "data": {
      "text/html": [
       "<div>\n",
       "<style scoped>\n",
       "    .dataframe tbody tr th:only-of-type {\n",
       "        vertical-align: middle;\n",
       "    }\n",
       "\n",
       "    .dataframe tbody tr th {\n",
       "        vertical-align: top;\n",
       "    }\n",
       "\n",
       "    .dataframe thead th {\n",
       "        text-align: right;\n",
       "    }\n",
       "</style>\n",
       "<table border=\"1\" class=\"dataframe\">\n",
       "  <thead>\n",
       "    <tr style=\"text-align: right;\">\n",
       "      <th></th>\n",
       "      <th>stars</th>\n",
       "      <th>review_count</th>\n",
       "    </tr>\n",
       "  </thead>\n",
       "  <tbody>\n",
       "    <tr>\n",
       "      <th>count</th>\n",
       "      <td>150346.000000</td>\n",
       "      <td>150346.000000</td>\n",
       "    </tr>\n",
       "    <tr>\n",
       "      <th>mean</th>\n",
       "      <td>3.596724</td>\n",
       "      <td>44.866561</td>\n",
       "    </tr>\n",
       "    <tr>\n",
       "      <th>std</th>\n",
       "      <td>0.974421</td>\n",
       "      <td>121.120136</td>\n",
       "    </tr>\n",
       "    <tr>\n",
       "      <th>min</th>\n",
       "      <td>1.000000</td>\n",
       "      <td>5.000000</td>\n",
       "    </tr>\n",
       "    <tr>\n",
       "      <th>25%</th>\n",
       "      <td>3.000000</td>\n",
       "      <td>8.000000</td>\n",
       "    </tr>\n",
       "    <tr>\n",
       "      <th>50%</th>\n",
       "      <td>3.500000</td>\n",
       "      <td>15.000000</td>\n",
       "    </tr>\n",
       "    <tr>\n",
       "      <th>75%</th>\n",
       "      <td>4.500000</td>\n",
       "      <td>37.000000</td>\n",
       "    </tr>\n",
       "    <tr>\n",
       "      <th>max</th>\n",
       "      <td>5.000000</td>\n",
       "      <td>7568.000000</td>\n",
       "    </tr>\n",
       "  </tbody>\n",
       "</table>\n",
       "</div>"
      ],
      "text/plain": [
       "               stars   review_count\n",
       "count  150346.000000  150346.000000\n",
       "mean        3.596724      44.866561\n",
       "std         0.974421     121.120136\n",
       "min         1.000000       5.000000\n",
       "25%         3.000000       8.000000\n",
       "50%         3.500000      15.000000\n",
       "75%         4.500000      37.000000\n",
       "max         5.000000    7568.000000"
      ]
     },
     "execution_count": 8,
     "metadata": {},
     "output_type": "execute_result"
    }
   ],
   "source": [
    "df[['stars','review_count']].describe()"
   ]
  },
  {
   "cell_type": "markdown",
   "id": "5f77cf31",
   "metadata": {},
   "source": [
    "## Checking state distribution (exploration)"
   ]
  },
  {
   "cell_type": "code",
   "execution_count": 9,
   "id": "ace180b2",
   "metadata": {},
   "outputs": [
    {
     "data": {
      "text/plain": [
       "array(['CA', 'MO', 'AZ', 'PA', 'TN', 'FL', 'IN', 'LA', 'AB', 'NV', 'ID',\n",
       "       'DE', 'IL', 'NJ', 'NC', 'CO', 'WA', 'HI', 'UT', 'TX', 'MT', 'MI',\n",
       "       'SD', 'XMS', 'MA', 'VI', 'VT'], dtype=object)"
      ]
     },
     "execution_count": 9,
     "metadata": {},
     "output_type": "execute_result"
    }
   ],
   "source": [
    "df['state'].unique()"
   ]
  },
  {
   "cell_type": "code",
   "execution_count": 10,
   "id": "1980cb93",
   "metadata": {},
   "outputs": [],
   "source": [
    "count_state = df.groupby(['state'])[['name']].count().reset_index().sort_values(by = 'name',ascending = False)\n",
    "count_state = count_state[count_state.name > 10]"
   ]
  },
  {
   "cell_type": "code",
   "execution_count": 11,
   "id": "47c6a3ee",
   "metadata": {},
   "outputs": [
    {
     "data": {
      "image/png": "[encoded data removed]",
      "text/plain": [
       "<Figure size 640x480 with 1 Axes>"
      ]
     },
     "metadata": {},
     "output_type": "display_data"
    }
   ],
   "source": [
    "sns.barplot(data=count_state, x=\"state\",y='name')\n",
    "plt.xticks(rotation=90)\n",
    "plt.xlabel('State', fontsize=10)\n",
    "plt.ylabel('Number of Bussinesses', fontsize=10)\n",
    "plt.title(\"Numbers of Businesses in Each States\",fontsize=14)\n",
    "plt.show()"
   ]
  },
  {
   "cell_type": "markdown",
   "id": "a31f2ae2",
   "metadata": {},
   "source": [
    "## Real Map Visualization (exploration)"
   ]
  },
  {
   "cell_type": "code",
   "execution_count": 12,
   "id": "10a412b1",
   "metadata": {},
   "outputs": [],
   "source": [
    "from mpl_toolkits.basemap import Basemap"
   ]
  },
  {
   "cell_type": "code",
   "execution_count": 13,
   "id": "49ecbb30",
   "metadata": {},
   "outputs": [
    {
     "data": {
      "text/plain": [
       "min    27.555127\n",
       "max    53.679197\n",
       "Name: latitude, dtype: float64"
      ]
     },
     "execution_count": 13,
     "metadata": {},
     "output_type": "execute_result"
    }
   ],
   "source": [
    "df['latitude'].agg(['min', 'max'])"
   ]
  },
  {
   "cell_type": "code",
   "execution_count": 14,
   "id": "d1e75cd5",
   "metadata": {},
   "outputs": [
    {
     "data": {
      "text/plain": [
       "min   -120.095137\n",
       "max    -73.200457\n",
       "Name: longitude, dtype: float64"
      ]
     },
     "execution_count": 14,
     "metadata": {},
     "output_type": "execute_result"
    }
   ],
   "source": [
    "df['longitude'].agg(['min', 'max'])"
   ]
  },
  {
   "cell_type": "code",
   "execution_count": 15,
   "id": "0c27cff4",
   "metadata": {},
   "outputs": [
    {
     "data": {
      "image/png": "[encoded data removed]",
      "text/plain": [
       "<Figure size 1200x900 with 1 Axes>"
      ]
     },
     "metadata": {},
     "output_type": "display_data"
    }
   ],
   "source": [
    "# setting the size of the map\n",
    "fig = plt.figure(figsize=(12,9))\n",
    "\n",
    "# creating the map - setting latitude and longitude\n",
    "m = Basemap(projection = 'mill', llcrnrlat = 10.555127, urcrnrlat = 77.679197, llcrnrlon = -155.095137,\\\n",
    "            urcrnrlon = -45.200457, resolution = 'c')\n",
    "m.drawcoastlines()\n",
    "m.drawcountries(color='gray')\n",
    "m.drawstates(color='gray')\n",
    "\n",
    "# creating variable for latitude and longitude to list\n",
    "lat = df['latitude'].tolist()\n",
    "lon = df['longitude'].tolist()\n",
    "\n",
    "# plotting the map\n",
    "m.scatter(lon, lat, latlon = True, s = 10, c = 'red', marker = 'X', alpha = 1)\n",
    "\n",
    "plt.show()"
   ]
  },
  {
   "cell_type": "markdown",
   "id": "34f0f0f2",
   "metadata": {},
   "source": [
    "## Make a visualization on how review effects businesses (exploration)"
   ]
  },
  {
   "cell_type": "code",
   "execution_count": 16,
   "id": "1ec49ec7",
   "metadata": {},
   "outputs": [],
   "source": [
    "df_review = df\n",
    "df_review['stars'] = df['stars'].apply(lambda x: int(math.floor(x)))"
   ]
  },
  {
   "cell_type": "code",
   "execution_count": 17,
   "id": "9749e442",
   "metadata": {},
   "outputs": [
    {
     "data": {
      "image/png": "[encoded data removed]",
      "text/plain": [
       "<Figure size 640x480 with 1 Axes>"
      ]
     },
     "metadata": {},
     "output_type": "display_data"
    }
   ],
   "source": [
    "my_palette = sns.color_palette(\"Set2\")\n",
    "sns.countplot(data=df_review, x=\"stars\", hue=\"is_open\",palette=my_palette)\n",
    "plt.grid(color = 'green', linestyle = '--', linewidth = 0.3,axis = 'y', alpha=0.5)\n",
    "plt.xlabel('Stars', fontsize=10)\n",
    "plt.ylabel('Number of Bussinesses', fontsize=10)\n",
    "plt.title(\"Comparation on Bussinesses survivability in Each Stars\",fontsize=14)\n",
    "plt.legend(title='still open', fontsize='small')\n",
    "plt.show()"
   ]
  },
  {
   "cell_type": "markdown",
   "id": "59facb8a",
   "metadata": {},
   "source": [
    "### Remove businesses with 1 stars and perfect 5 stars because there are not any business that totally perfect or totally awful"
   ]
  },
  {
   "cell_type": "code",
   "execution_count": 18,
   "id": "3a79cbb9",
   "metadata": {},
   "outputs": [
    {
     "data": {
      "text/plain": [
       "127121"
      ]
     },
     "execution_count": 18,
     "metadata": {},
     "output_type": "execute_result"
    }
   ],
   "source": [
    "df = df[(df.stars > 1.0) & (df.stars < 5.0)]\n",
    "len(df)"
   ]
  },
  {
   "cell_type": "markdown",
   "id": "a44445b3",
   "metadata": {},
   "source": [
    "## Most categories in Yelp (exploration)"
   ]
  },
  {
   "cell_type": "code",
   "execution_count": 19,
   "id": "0ccee992",
   "metadata": {},
   "outputs": [],
   "source": [
    "def total_categories(df):\n",
    "    categories_list = set()\n",
    "    for index,row in df.iterrows():\n",
    "        temp = row['categories'].replace(\" \",\"\").split(',')\n",
    "        for i in temp:\n",
    "            categories_list.add(i)\n",
    "    return(list(categories_list))"
   ]
  },
  {
   "cell_type": "code",
   "execution_count": 20,
   "id": "5be93d5d",
   "metadata": {},
   "outputs": [],
   "source": [
    "def convert_dict(lst):\n",
    "    res_dct = {lst[i]: 0 for i in range(len(lst))}\n",
    "    return(res_dct)"
   ]
  },
  {
   "cell_type": "code",
   "execution_count": 21,
   "id": "9f6a9ce9",
   "metadata": {},
   "outputs": [],
   "source": [
    "def trend_categories(dct,df):\n",
    "    for index,row in df.iterrows():\n",
    "        temp = row['categories'].replace(\" \",\"\").split(',')\n",
    "        for i in temp:\n",
    "            dct[i]+=1\n",
    "    return dct"
   ]
  },
  {
   "cell_type": "code",
   "execution_count": 22,
   "id": "56598bb1",
   "metadata": {},
   "outputs": [
    {
     "data": {
      "text/plain": [
       "business_id         0\n",
       "name                0\n",
       "address             0\n",
       "city                0\n",
       "state               0\n",
       "latitude            0\n",
       "longitude           0\n",
       "stars               0\n",
       "review_count        0\n",
       "is_open             0\n",
       "attributes      10041\n",
       "categories         45\n",
       "hours           19338\n",
       "dtype: int64"
      ]
     },
     "execution_count": 22,
     "metadata": {},
     "output_type": "execute_result"
    }
   ],
   "source": [
    "df.isnull().sum()"
   ]
  },
  {
   "cell_type": "code",
   "execution_count": 23,
   "id": "ce565a56",
   "metadata": {},
   "outputs": [],
   "source": [
    "df = df.dropna(subset=['categories'])"
   ]
  },
  {
   "cell_type": "code",
   "execution_count": 24,
   "id": "728df49a",
   "metadata": {},
   "outputs": [],
   "source": [
    "from collections import Counter"
   ]
  },
  {
   "cell_type": "code",
   "execution_count": 25,
   "id": "53eeb7a5",
   "metadata": {},
   "outputs": [
    {
     "data": {
      "text/plain": [
       "{'Restaurants': 48987,\n",
       " 'Food': 24818,\n",
       " 'Shopping': 20418,\n",
       " 'Nightlife': 11760,\n",
       " 'Beauty&Spas': 11683,\n",
       " 'Bars': 10681,\n",
       " 'HomeServices': 10266,\n",
       " 'Health&Medical': 9043,\n",
       " 'Automotive': 8671,\n",
       " 'LocalServices': 8452}"
      ]
     },
     "execution_count": 25,
     "metadata": {},
     "output_type": "execute_result"
    }
   ],
   "source": [
    "categories = total_categories(df)\n",
    "categories_dict=convert_dict(categories)\n",
    "categories_count = trend_categories(categories_dict,df)\n",
    "categories_count = dict(Counter(categories_count).most_common(10))\n",
    "categories_count"
   ]
  },
  {
   "cell_type": "code",
   "execution_count": 26,
   "id": "b9e46dc8",
   "metadata": {},
   "outputs": [
    {
     "data": {
      "image/png": "[encoded data removed]",
      "text/plain": [
       "<Figure size 640x480 with 1 Axes>"
      ]
     },
     "metadata": {},
     "output_type": "display_data"
    }
   ],
   "source": [
    "colors = sns.color_palette(\"flare\")\n",
    "keys = list(categories_count.keys())\n",
    "# keys\n",
    "vals = list(categories_count.values())\n",
    "# vals\n",
    "sns.barplot(x=vals, y=keys, orient = 'h',palette = colors)\n",
    "plt.grid(axis='x', linestyle='--')\n",
    "# plt.xticks(rotation=90)\n",
    "plt.xlabel('Number of Bussinesses', fontsize=10)\n",
    "plt.ylabel('Category of Bussinesses', fontsize=10)\n",
    "plt.title(\"Trending Categories\", fontsize=14)\n",
    "plt.show()"
   ]
  },
  {
   "cell_type": "markdown",
   "id": "a371dc06",
   "metadata": {},
   "source": [
    "## Filtering Dataframe for all restaurants (Preprocessing)"
   ]
  },
  {
   "cell_type": "code",
   "execution_count": 27,
   "id": "d9d96960",
   "metadata": {},
   "outputs": [],
   "source": [
    "df_restaurant = df[df['categories'].str.contains(\"Restaurants\",na=False)]"
   ]
  },
  {
   "cell_type": "code",
   "execution_count": 28,
   "id": "54d5d896",
   "metadata": {},
   "outputs": [],
   "source": [
    "df_restaurant = df_restaurant[df_restaurant.is_open==1]"
   ]
  },
  {
   "cell_type": "code",
   "execution_count": 29,
   "id": "38536e13",
   "metadata": {},
   "outputs": [],
   "source": [
    "df_restaurant = df_restaurant.drop(columns=['is_open'])"
   ]
  },
  {
   "cell_type": "code",
   "execution_count": 30,
   "id": "ce06ed1c",
   "metadata": {},
   "outputs": [
    {
     "data": {
      "text/html": [
       "<div>\n",
       "<style scoped>\n",
       "    .dataframe tbody tr th:only-of-type {\n",
       "        vertical-align: middle;\n",
       "    }\n",
       "\n",
       "    .dataframe tbody tr th {\n",
       "        vertical-align: top;\n",
       "    }\n",
       "\n",
       "    .dataframe thead th {\n",
       "        text-align: right;\n",
       "    }\n",
       "</style>\n",
       "<table border=\"1\" class=\"dataframe\">\n",
       "  <thead>\n",
       "    <tr style=\"text-align: right;\">\n",
       "      <th></th>\n",
       "      <th>business_id</th>\n",
       "      <th>name</th>\n",
       "      <th>address</th>\n",
       "      <th>city</th>\n",
       "      <th>state</th>\n",
       "      <th>latitude</th>\n",
       "      <th>longitude</th>\n",
       "      <th>stars</th>\n",
       "      <th>review_count</th>\n",
       "      <th>attributes</th>\n",
       "      <th>categories</th>\n",
       "      <th>hours</th>\n",
       "    </tr>\n",
       "  </thead>\n",
       "  <tbody>\n",
       "    <tr>\n",
       "      <th>3</th>\n",
       "      <td>MTSW4McQd7CbVtyjqoe9mw</td>\n",
       "      <td>St Honore Pastries</td>\n",
       "      <td>935 Race St</td>\n",
       "      <td>Philadelphia</td>\n",
       "      <td>PA</td>\n",
       "      <td>39.955505</td>\n",
       "      <td>-75.155564</td>\n",
       "      <td>4</td>\n",
       "      <td>80</td>\n",
       "      <td>{'RestaurantsDelivery': 'False', 'OutdoorSeati...</td>\n",
       "      <td>Restaurants, Food, Bubble Tea, Coffee &amp; Tea, B...</td>\n",
       "      <td>{'Monday': '7:0-20:0', 'Tuesday': '7:0-20:0', ...</td>\n",
       "    </tr>\n",
       "    <tr>\n",
       "      <th>5</th>\n",
       "      <td>CF33F8-E6oudUQ46HnavjQ</td>\n",
       "      <td>Sonic Drive-In</td>\n",
       "      <td>615 S Main St</td>\n",
       "      <td>Ashland City</td>\n",
       "      <td>TN</td>\n",
       "      <td>36.269593</td>\n",
       "      <td>-87.058943</td>\n",
       "      <td>2</td>\n",
       "      <td>6</td>\n",
       "      <td>{'BusinessParking': 'None', 'BusinessAcceptsCr...</td>\n",
       "      <td>Burgers, Fast Food, Sandwiches, Food, Ice Crea...</td>\n",
       "      <td>{'Monday': '0:0-0:0', 'Tuesday': '6:0-22:0', '...</td>\n",
       "    </tr>\n",
       "    <tr>\n",
       "      <th>11</th>\n",
       "      <td>eEOYSgkmpB90uNA7lDOMRA</td>\n",
       "      <td>Vietnamese Food Truck</td>\n",
       "      <td></td>\n",
       "      <td>Tampa Bay</td>\n",
       "      <td>FL</td>\n",
       "      <td>27.955269</td>\n",
       "      <td>-82.456320</td>\n",
       "      <td>4</td>\n",
       "      <td>10</td>\n",
       "      <td>{'Alcohol': ''none'', 'OutdoorSeating': 'None'...</td>\n",
       "      <td>Vietnamese, Food, Restaurants, Food Trucks</td>\n",
       "      <td>{'Monday': '11:0-14:0', 'Tuesday': '11:0-14:0'...</td>\n",
       "    </tr>\n",
       "    <tr>\n",
       "      <th>12</th>\n",
       "      <td>il_Ro8jwPlHresjw9EGmBg</td>\n",
       "      <td>Denny's</td>\n",
       "      <td>8901 US 31 S</td>\n",
       "      <td>Indianapolis</td>\n",
       "      <td>IN</td>\n",
       "      <td>39.637133</td>\n",
       "      <td>-86.127217</td>\n",
       "      <td>2</td>\n",
       "      <td>28</td>\n",
       "      <td>{'RestaurantsReservations': 'False', 'Restaura...</td>\n",
       "      <td>American (Traditional), Restaurants, Diners, B...</td>\n",
       "      <td>{'Monday': '6:0-22:0', 'Tuesday': '6:0-22:0', ...</td>\n",
       "    </tr>\n",
       "    <tr>\n",
       "      <th>15</th>\n",
       "      <td>MUTTqe8uqyMdBl186RmNeA</td>\n",
       "      <td>Tuna Bar</td>\n",
       "      <td>205 Race St</td>\n",
       "      <td>Philadelphia</td>\n",
       "      <td>PA</td>\n",
       "      <td>39.953949</td>\n",
       "      <td>-75.143226</td>\n",
       "      <td>4</td>\n",
       "      <td>245</td>\n",
       "      <td>{'RestaurantsReservations': 'True', 'Restauran...</td>\n",
       "      <td>Sushi Bars, Restaurants, Japanese</td>\n",
       "      <td>{'Tuesday': '13:30-22:0', 'Wednesday': '13:30-...</td>\n",
       "    </tr>\n",
       "  </tbody>\n",
       "</table>\n",
       "</div>"
      ],
      "text/plain": [
       "               business_id                   name        address  \\\n",
       "3   MTSW4McQd7CbVtyjqoe9mw     St Honore Pastries    935 Race St   \n",
       "5   CF33F8-E6oudUQ46HnavjQ         Sonic Drive-In  615 S Main St   \n",
       "11  eEOYSgkmpB90uNA7lDOMRA  Vietnamese Food Truck                  \n",
       "12  il_Ro8jwPlHresjw9EGmBg                Denny's   8901 US 31 S   \n",
       "15  MUTTqe8uqyMdBl186RmNeA               Tuna Bar    205 Race St   \n",
       "\n",
       "            city state   latitude  longitude  stars  review_count  \\\n",
       "3   Philadelphia    PA  39.955505 -75.155564      4            80   \n",
       "5   Ashland City    TN  36.269593 -87.058943      2             6   \n",
       "11     Tampa Bay    FL  27.955269 -82.456320      4            10   \n",
       "12  Indianapolis    IN  39.637133 -86.127217      2            28   \n",
       "15  Philadelphia    PA  39.953949 -75.143226      4           245   \n",
       "\n",
       "                                           attributes  \\\n",
       "3   {'RestaurantsDelivery': 'False', 'OutdoorSeati...   \n",
       "5   {'BusinessParking': 'None', 'BusinessAcceptsCr...   \n",
       "11  {'Alcohol': ''none'', 'OutdoorSeating': 'None'...   \n",
       "12  {'RestaurantsReservations': 'False', 'Restaura...   \n",
       "15  {'RestaurantsReservations': 'True', 'Restauran...   \n",
       "\n",
       "                                           categories  \\\n",
       "3   Restaurants, Food, Bubble Tea, Coffee & Tea, B...   \n",
       "5   Burgers, Fast Food, Sandwiches, Food, Ice Crea...   \n",
       "11         Vietnamese, Food, Restaurants, Food Trucks   \n",
       "12  American (Traditional), Restaurants, Diners, B...   \n",
       "15                  Sushi Bars, Restaurants, Japanese   \n",
       "\n",
       "                                                hours  \n",
       "3   {'Monday': '7:0-20:0', 'Tuesday': '7:0-20:0', ...  \n",
       "5   {'Monday': '0:0-0:0', 'Tuesday': '6:0-22:0', '...  \n",
       "11  {'Monday': '11:0-14:0', 'Tuesday': '11:0-14:0'...  \n",
       "12  {'Monday': '6:0-22:0', 'Tuesday': '6:0-22:0', ...  \n",
       "15  {'Tuesday': '13:30-22:0', 'Wednesday': '13:30-...  "
      ]
     },
     "execution_count": 30,
     "metadata": {},
     "output_type": "execute_result"
    }
   ],
   "source": [
    "df_restaurant.head()"
   ]
  },
  {
   "cell_type": "markdown",
   "id": "3c9c7778",
   "metadata": {},
   "source": [
    "### Remove businesses with too many or not getting enough reviews because it can make a bias to the data\n",
    "### (Preprocessing)"
   ]
  },
  {
   "cell_type": "code",
   "execution_count": 31,
   "id": "8aa45bef",
   "metadata": {},
   "outputs": [],
   "source": [
    "def remove_outliers_iqr(df, column_name):\n",
    "    # Calculate IQR\n",
    "    Q1 = df[column_name].quantile(0.25)\n",
    "    Q3 = df[column_name].quantile(0.75)\n",
    "    IQR = Q3 - Q1\n",
    "    \n",
    "    # Define bounds\n",
    "    lower_bound = Q1 - 1.5 * IQR\n",
    "    upper_bound = Q3 + 1.5 * IQR\n",
    "    \n",
    "    # Filter dataframe\n",
    "    clean_df = df[(df[column_name] > lower_bound) & (df[column_name] < upper_bound)]\n",
    "    \n",
    "    return clean_df"
   ]
  },
  {
   "cell_type": "code",
   "execution_count": 32,
   "id": "ec1a618e",
   "metadata": {},
   "outputs": [
    {
     "data": {
      "text/plain": [
       "29295"
      ]
     },
     "execution_count": 32,
     "metadata": {},
     "output_type": "execute_result"
    }
   ],
   "source": [
    "df_restaurant = remove_outliers_iqr(df_restaurant,'review_count')\n",
    "len(df_restaurant)"
   ]
  },
  {
   "cell_type": "code",
   "execution_count": 33,
   "id": "efe096a8",
   "metadata": {},
   "outputs": [
    {
     "data": {
      "text/html": [
       "<div>\n",
       "<style scoped>\n",
       "    .dataframe tbody tr th:only-of-type {\n",
       "        vertical-align: middle;\n",
       "    }\n",
       "\n",
       "    .dataframe tbody tr th {\n",
       "        vertical-align: top;\n",
       "    }\n",
       "\n",
       "    .dataframe thead th {\n",
       "        text-align: right;\n",
       "    }\n",
       "</style>\n",
       "<table border=\"1\" class=\"dataframe\">\n",
       "  <thead>\n",
       "    <tr style=\"text-align: right;\">\n",
       "      <th></th>\n",
       "      <th>latitude</th>\n",
       "      <th>longitude</th>\n",
       "      <th>stars</th>\n",
       "      <th>review_count</th>\n",
       "    </tr>\n",
       "  </thead>\n",
       "  <tbody>\n",
       "    <tr>\n",
       "      <th>count</th>\n",
       "      <td>29295.000000</td>\n",
       "      <td>29295.000000</td>\n",
       "      <td>29295.000000</td>\n",
       "      <td>29295.000000</td>\n",
       "    </tr>\n",
       "    <tr>\n",
       "      <th>mean</th>\n",
       "      <td>37.303270</td>\n",
       "      <td>-87.641557</td>\n",
       "      <td>3.262161</td>\n",
       "      <td>60.502270</td>\n",
       "    </tr>\n",
       "    <tr>\n",
       "      <th>std</th>\n",
       "      <td>6.196896</td>\n",
       "      <td>13.745940</td>\n",
       "      <td>0.743480</td>\n",
       "      <td>60.498192</td>\n",
       "    </tr>\n",
       "    <tr>\n",
       "      <th>min</th>\n",
       "      <td>27.564457</td>\n",
       "      <td>-120.001095</td>\n",
       "      <td>2.000000</td>\n",
       "      <td>5.000000</td>\n",
       "    </tr>\n",
       "    <tr>\n",
       "      <th>25%</th>\n",
       "      <td>32.228159</td>\n",
       "      <td>-90.234031</td>\n",
       "      <td>3.000000</td>\n",
       "      <td>15.000000</td>\n",
       "    </tr>\n",
       "    <tr>\n",
       "      <th>50%</th>\n",
       "      <td>39.599293</td>\n",
       "      <td>-82.831938</td>\n",
       "      <td>3.000000</td>\n",
       "      <td>37.000000</td>\n",
       "    </tr>\n",
       "    <tr>\n",
       "      <th>75%</th>\n",
       "      <td>39.978718</td>\n",
       "      <td>-75.333039</td>\n",
       "      <td>4.000000</td>\n",
       "      <td>86.000000</td>\n",
       "    </tr>\n",
       "    <tr>\n",
       "      <th>max</th>\n",
       "      <td>53.679197</td>\n",
       "      <td>-74.680250</td>\n",
       "      <td>4.000000</td>\n",
       "      <td>264.000000</td>\n",
       "    </tr>\n",
       "  </tbody>\n",
       "</table>\n",
       "</div>"
      ],
      "text/plain": [
       "           latitude     longitude         stars  review_count\n",
       "count  29295.000000  29295.000000  29295.000000  29295.000000\n",
       "mean      37.303270    -87.641557      3.262161     60.502270\n",
       "std        6.196896     13.745940      0.743480     60.498192\n",
       "min       27.564457   -120.001095      2.000000      5.000000\n",
       "25%       32.228159    -90.234031      3.000000     15.000000\n",
       "50%       39.599293    -82.831938      3.000000     37.000000\n",
       "75%       39.978718    -75.333039      4.000000     86.000000\n",
       "max       53.679197    -74.680250      4.000000    264.000000"
      ]
     },
     "execution_count": 33,
     "metadata": {},
     "output_type": "execute_result"
    }
   ],
   "source": [
    "df_restaurant.describe()"
   ]
  },
  {
   "cell_type": "code",
   "execution_count": 34,
   "id": "0cf8750b",
   "metadata": {},
   "outputs": [
    {
     "data": {
      "text/plain": [
       "business_id      object\n",
       "name             object\n",
       "address          object\n",
       "city             object\n",
       "state            object\n",
       "latitude        float64\n",
       "longitude       float64\n",
       "stars             int64\n",
       "review_count      int64\n",
       "attributes       object\n",
       "categories       object\n",
       "hours            object\n",
       "dtype: object"
      ]
     },
     "execution_count": 34,
     "metadata": {},
     "output_type": "execute_result"
    }
   ],
   "source": [
    "df_restaurant.dtypes"
   ]
  },
  {
   "cell_type": "code",
   "execution_count": 35,
   "id": "55db945a",
   "metadata": {},
   "outputs": [
    {
     "data": {
      "text/plain": [
       "business_id        0\n",
       "name               0\n",
       "address            0\n",
       "city               0\n",
       "state              0\n",
       "latitude           0\n",
       "longitude          0\n",
       "stars              0\n",
       "review_count       0\n",
       "attributes       346\n",
       "categories         0\n",
       "hours           3087\n",
       "dtype: int64"
      ]
     },
     "execution_count": 35,
     "metadata": {},
     "output_type": "execute_result"
    }
   ],
   "source": [
    "df_restaurant.isnull().sum()"
   ]
  },
  {
   "cell_type": "code",
   "execution_count": 36,
   "id": "5bec33f0",
   "metadata": {},
   "outputs": [],
   "source": [
    "df_restaurant.dropna(inplace=True)"
   ]
  },
  {
   "cell_type": "code",
   "execution_count": 70,
   "id": "162ac7fe",
   "metadata": {},
   "outputs": [],
   "source": [
    "df_restaurant = df_restaurant[(df_restaurant.stars > 1.0) & (df_restaurant.stars < 5.0)]"
   ]
  },
  {
   "cell_type": "markdown",
   "id": "e0420349",
   "metadata": {},
   "source": [
    "## The trending attribute used (Exploration)"
   ]
  },
  {
   "cell_type": "code",
   "execution_count": 37,
   "id": "a430c64b",
   "metadata": {},
   "outputs": [],
   "source": [
    "def attribute_listed(df):\n",
    "    attribute_list = set()\n",
    "    for index,row in df.iterrows():\n",
    "        temp = dict(row['attributes'])\n",
    "        for key, value in temp.items():\n",
    "            attribute_list.add(key)\n",
    "    return(list(attribute_list))"
   ]
  },
  {
   "cell_type": "code",
   "execution_count": 38,
   "id": "8afc8c59",
   "metadata": {},
   "outputs": [],
   "source": [
    "def trend_attribute(dct,df):\n",
    "    for index,row in df.iterrows():\n",
    "        temp = dict(row['attributes'])\n",
    "        for key, value in temp.items():\n",
    "            dct[key]+=1\n",
    "    return dct"
   ]
  },
  {
   "cell_type": "code",
   "execution_count": 39,
   "id": "2a94807c",
   "metadata": {},
   "outputs": [
    {
     "data": {
      "text/plain": [
       "{'RestaurantsTakeOut': 24888,\n",
       " 'RestaurantsDelivery': 24458,\n",
       " 'BusinessParking': 23092,\n",
       " 'BusinessAcceptsCreditCards': 22544,\n",
       " 'RestaurantsPriceRange2': 21753,\n",
       " 'OutdoorSeating': 21687,\n",
       " 'HasTV': 21309,\n",
       " 'RestaurantsReservations': 21233,\n",
       " 'Ambience': 21059,\n",
       " 'RestaurantsGoodForGroups': 19880,\n",
       " 'Alcohol': 19699,\n",
       " 'WiFi': 19677,\n",
       " 'GoodForKids': 19516,\n",
       " 'BikeParking': 19428,\n",
       " 'Caters': 18306,\n",
       " 'RestaurantsAttire': 18257,\n",
       " 'NoiseLevel': 16863,\n",
       " 'GoodForMeal': 16585}"
      ]
     },
     "execution_count": 39,
     "metadata": {},
     "output_type": "execute_result"
    }
   ],
   "source": [
    "attri_list = attribute_listed(df_restaurant)\n",
    "attri_dict = convert_dict(attri_list)\n",
    "attri_trend = trend_attribute(attri_dict,df_restaurant)\n",
    "attri_trend =  dict(Counter(attri_trend).most_common(18))\n",
    "attri_trend"
   ]
  },
  {
   "cell_type": "code",
   "execution_count": 40,
   "id": "b8302207",
   "metadata": {},
   "outputs": [
    {
     "data": {
      "text/plain": [
       "26008"
      ]
     },
     "execution_count": 40,
     "metadata": {},
     "output_type": "execute_result"
    }
   ],
   "source": [
    "len(df_restaurant. index) "
   ]
  },
  {
   "cell_type": "code",
   "execution_count": 41,
   "id": "3ec54a56",
   "metadata": {},
   "outputs": [
    {
     "data": {
      "image/png": "[encoded data removed]",
      "text/plain": [
       "<Figure size 640x480 with 1 Axes>"
      ]
     },
     "metadata": {},
     "output_type": "display_data"
    }
   ],
   "source": [
    "attri_keys = list(attri_trend.keys())\n",
    "# keys\n",
    "attri_vals = list(attri_trend.values())\n",
    "# vals\n",
    "sns.barplot(x=attri_vals, y=attri_keys , orient = 'h')\n",
    "plt.grid(axis='x', linestyle='--', alpha = 0.3)\n",
    "plt.xlabel('Number of Businesses Having These Attributes', fontsize=10)\n",
    "plt.ylabel('Attributes of Bussinesses', fontsize=10)\n",
    "plt.title(\"Trending Attributes\", fontsize=14)\n",
    "plt.show()"
   ]
  },
  {
   "cell_type": "markdown",
   "id": "3d01d298",
   "metadata": {},
   "source": [
    "## Make a new df with attribute (Preprocessing)"
   ]
  },
  {
   "cell_type": "code",
   "execution_count": 42,
   "id": "087f7a8a",
   "metadata": {},
   "outputs": [],
   "source": [
    "def df_with_attribute(df,lst):\n",
    "    for index, row in df.iterrows():\n",
    "    # calculate the value of a new column based on the values of columns A and B\n",
    "        attri = dict(row['attributes'])\n",
    "    \n",
    "    # assign the new value to a new column in the same row\n",
    "        for i in lst:\n",
    "            try:\n",
    "                df.at[index, i] = attri[i]\n",
    "            except:\n",
    "                df.at[index, i] = 'False_null'\n",
    "    return df"
   ]
  },
  {
   "cell_type": "code",
   "execution_count": 43,
   "id": "c852bdb9",
   "metadata": {},
   "outputs": [
    {
     "data": {
      "text/html": [
       "<div>\n",
       "<style scoped>\n",
       "    .dataframe tbody tr th:only-of-type {\n",
       "        vertical-align: middle;\n",
       "    }\n",
       "\n",
       "    .dataframe tbody tr th {\n",
       "        vertical-align: top;\n",
       "    }\n",
       "\n",
       "    .dataframe thead th {\n",
       "        text-align: right;\n",
       "    }\n",
       "</style>\n",
       "<table border=\"1\" class=\"dataframe\">\n",
       "  <thead>\n",
       "    <tr style=\"text-align: right;\">\n",
       "      <th></th>\n",
       "      <th>business_id</th>\n",
       "      <th>name</th>\n",
       "      <th>address</th>\n",
       "      <th>city</th>\n",
       "      <th>state</th>\n",
       "      <th>latitude</th>\n",
       "      <th>longitude</th>\n",
       "      <th>stars</th>\n",
       "      <th>review_count</th>\n",
       "      <th>attributes</th>\n",
       "      <th>...</th>\n",
       "      <th>Ambience</th>\n",
       "      <th>RestaurantsGoodForGroups</th>\n",
       "      <th>Alcohol</th>\n",
       "      <th>WiFi</th>\n",
       "      <th>GoodForKids</th>\n",
       "      <th>BikeParking</th>\n",
       "      <th>Caters</th>\n",
       "      <th>RestaurantsAttire</th>\n",
       "      <th>NoiseLevel</th>\n",
       "      <th>GoodForMeal</th>\n",
       "    </tr>\n",
       "  </thead>\n",
       "  <tbody>\n",
       "    <tr>\n",
       "      <th>3</th>\n",
       "      <td>MTSW4McQd7CbVtyjqoe9mw</td>\n",
       "      <td>St Honore Pastries</td>\n",
       "      <td>935 Race St</td>\n",
       "      <td>Philadelphia</td>\n",
       "      <td>PA</td>\n",
       "      <td>39.955505</td>\n",
       "      <td>-75.155564</td>\n",
       "      <td>4</td>\n",
       "      <td>80</td>\n",
       "      <td>{'RestaurantsDelivery': 'False', 'OutdoorSeati...</td>\n",
       "      <td>...</td>\n",
       "      <td>False_null</td>\n",
       "      <td>False_null</td>\n",
       "      <td>u'none'</td>\n",
       "      <td>u'free'</td>\n",
       "      <td>False_null</td>\n",
       "      <td>True</td>\n",
       "      <td>True</td>\n",
       "      <td>False_null</td>\n",
       "      <td>False_null</td>\n",
       "      <td>False_null</td>\n",
       "    </tr>\n",
       "    <tr>\n",
       "      <th>5</th>\n",
       "      <td>CF33F8-E6oudUQ46HnavjQ</td>\n",
       "      <td>Sonic Drive-In</td>\n",
       "      <td>615 S Main St</td>\n",
       "      <td>Ashland City</td>\n",
       "      <td>TN</td>\n",
       "      <td>36.269593</td>\n",
       "      <td>-87.058943</td>\n",
       "      <td>2</td>\n",
       "      <td>6</td>\n",
       "      <td>{'BusinessParking': 'None', 'BusinessAcceptsCr...</td>\n",
       "      <td>...</td>\n",
       "      <td>None</td>\n",
       "      <td>True</td>\n",
       "      <td>u'none'</td>\n",
       "      <td>u'no'</td>\n",
       "      <td>True</td>\n",
       "      <td>False</td>\n",
       "      <td>False</td>\n",
       "      <td>u'casual'</td>\n",
       "      <td>False_null</td>\n",
       "      <td>False_null</td>\n",
       "    </tr>\n",
       "    <tr>\n",
       "      <th>11</th>\n",
       "      <td>eEOYSgkmpB90uNA7lDOMRA</td>\n",
       "      <td>Vietnamese Food Truck</td>\n",
       "      <td></td>\n",
       "      <td>Tampa Bay</td>\n",
       "      <td>FL</td>\n",
       "      <td>27.955269</td>\n",
       "      <td>-82.456320</td>\n",
       "      <td>4</td>\n",
       "      <td>10</td>\n",
       "      <td>{'Alcohol': ''none'', 'OutdoorSeating': 'None'...</td>\n",
       "      <td>...</td>\n",
       "      <td>{'touristy': False, 'hipster': False, 'romanti...</td>\n",
       "      <td>False_null</td>\n",
       "      <td>'none'</td>\n",
       "      <td>False_null</td>\n",
       "      <td>False_null</td>\n",
       "      <td>False_null</td>\n",
       "      <td>False_null</td>\n",
       "      <td>False_null</td>\n",
       "      <td>False_null</td>\n",
       "      <td>{'dessert': False, 'latenight': False, 'lunch'...</td>\n",
       "    </tr>\n",
       "    <tr>\n",
       "      <th>12</th>\n",
       "      <td>il_Ro8jwPlHresjw9EGmBg</td>\n",
       "      <td>Denny's</td>\n",
       "      <td>8901 US 31 S</td>\n",
       "      <td>Indianapolis</td>\n",
       "      <td>IN</td>\n",
       "      <td>39.637133</td>\n",
       "      <td>-86.127217</td>\n",
       "      <td>2</td>\n",
       "      <td>28</td>\n",
       "      <td>{'RestaurantsReservations': 'False', 'Restaura...</td>\n",
       "      <td>...</td>\n",
       "      <td>{'touristy': None, 'hipster': None, 'romantic'...</td>\n",
       "      <td>True</td>\n",
       "      <td>'none'</td>\n",
       "      <td>u'no'</td>\n",
       "      <td>True</td>\n",
       "      <td>False</td>\n",
       "      <td>False_null</td>\n",
       "      <td>'casual'</td>\n",
       "      <td>False_null</td>\n",
       "      <td>{'dessert': False, 'latenight': False, 'lunch'...</td>\n",
       "    </tr>\n",
       "    <tr>\n",
       "      <th>15</th>\n",
       "      <td>MUTTqe8uqyMdBl186RmNeA</td>\n",
       "      <td>Tuna Bar</td>\n",
       "      <td>205 Race St</td>\n",
       "      <td>Philadelphia</td>\n",
       "      <td>PA</td>\n",
       "      <td>39.953949</td>\n",
       "      <td>-75.143226</td>\n",
       "      <td>4</td>\n",
       "      <td>245</td>\n",
       "      <td>{'RestaurantsReservations': 'True', 'Restauran...</td>\n",
       "      <td>...</td>\n",
       "      <td>{'touristy': False, 'hipster': False, 'romanti...</td>\n",
       "      <td>True</td>\n",
       "      <td>'full_bar'</td>\n",
       "      <td>'free'</td>\n",
       "      <td>False</td>\n",
       "      <td>False_null</td>\n",
       "      <td>False_null</td>\n",
       "      <td>'casual'</td>\n",
       "      <td>u'average'</td>\n",
       "      <td>{'dessert': True, 'latenight': None, 'lunch': ...</td>\n",
       "    </tr>\n",
       "    <tr>\n",
       "      <th>...</th>\n",
       "      <td>...</td>\n",
       "      <td>...</td>\n",
       "      <td>...</td>\n",
       "      <td>...</td>\n",
       "      <td>...</td>\n",
       "      <td>...</td>\n",
       "      <td>...</td>\n",
       "      <td>...</td>\n",
       "      <td>...</td>\n",
       "      <td>...</td>\n",
       "      <td>...</td>\n",
       "      <td>...</td>\n",
       "      <td>...</td>\n",
       "      <td>...</td>\n",
       "      <td>...</td>\n",
       "      <td>...</td>\n",
       "      <td>...</td>\n",
       "      <td>...</td>\n",
       "      <td>...</td>\n",
       "      <td>...</td>\n",
       "      <td>...</td>\n",
       "    </tr>\n",
       "    <tr>\n",
       "      <th>150313</th>\n",
       "      <td>sf_oQ62L8UEnOOLf00nNGA</td>\n",
       "      <td>Pizza Hut</td>\n",
       "      <td>5028 Old Hickory</td>\n",
       "      <td>Hermitage</td>\n",
       "      <td>TN</td>\n",
       "      <td>36.193201</td>\n",
       "      <td>-86.614748</td>\n",
       "      <td>3</td>\n",
       "      <td>6</td>\n",
       "      <td>{'RestaurantsTakeOut': 'True', 'GoodForKids': ...</td>\n",
       "      <td>...</td>\n",
       "      <td>{'touristy': False, 'hipster': False, 'romanti...</td>\n",
       "      <td>False</td>\n",
       "      <td>False_null</td>\n",
       "      <td>False_null</td>\n",
       "      <td>False</td>\n",
       "      <td>False_null</td>\n",
       "      <td>False_null</td>\n",
       "      <td>False_null</td>\n",
       "      <td>False_null</td>\n",
       "      <td>False_null</td>\n",
       "    </tr>\n",
       "    <tr>\n",
       "      <th>150325</th>\n",
       "      <td>l9eLGG9ZKpLJzboZq-9LRQ</td>\n",
       "      <td>Wawa</td>\n",
       "      <td>19 N Bishop Ave</td>\n",
       "      <td>Clifton Heights</td>\n",
       "      <td>PA</td>\n",
       "      <td>39.925656</td>\n",
       "      <td>-75.310344</td>\n",
       "      <td>3</td>\n",
       "      <td>11</td>\n",
       "      <td>{'BikeParking': 'True', 'BusinessAcceptsCredit...</td>\n",
       "      <td>...</td>\n",
       "      <td>False_null</td>\n",
       "      <td>False_null</td>\n",
       "      <td>False_null</td>\n",
       "      <td>False_null</td>\n",
       "      <td>False_null</td>\n",
       "      <td>True</td>\n",
       "      <td>True</td>\n",
       "      <td>False_null</td>\n",
       "      <td>False_null</td>\n",
       "      <td>False_null</td>\n",
       "    </tr>\n",
       "    <tr>\n",
       "      <th>150327</th>\n",
       "      <td>cM6V90ExQD6KMSU3rRB5ZA</td>\n",
       "      <td>Dutch Bros Coffee</td>\n",
       "      <td>1181 N Milwaukee St</td>\n",
       "      <td>Boise</td>\n",
       "      <td>ID</td>\n",
       "      <td>43.615401</td>\n",
       "      <td>-116.284689</td>\n",
       "      <td>4</td>\n",
       "      <td>33</td>\n",
       "      <td>{'WiFi': ''free'', 'RestaurantsGoodForGroups':...</td>\n",
       "      <td>...</td>\n",
       "      <td>{'romantic': False, 'intimate': False, 'classy...</td>\n",
       "      <td>True</td>\n",
       "      <td>u'none'</td>\n",
       "      <td>'free'</td>\n",
       "      <td>True</td>\n",
       "      <td>True</td>\n",
       "      <td>False</td>\n",
       "      <td>'casual'</td>\n",
       "      <td>u'loud'</td>\n",
       "      <td>{'dessert': False, 'latenight': False, 'lunch'...</td>\n",
       "    </tr>\n",
       "    <tr>\n",
       "      <th>150336</th>\n",
       "      <td>WnT9NIzQgLlILjPT0kEcsQ</td>\n",
       "      <td>Adelita Taqueria &amp; Restaurant</td>\n",
       "      <td>1108 S 9th St</td>\n",
       "      <td>Philadelphia</td>\n",
       "      <td>PA</td>\n",
       "      <td>39.935982</td>\n",
       "      <td>-75.158665</td>\n",
       "      <td>4</td>\n",
       "      <td>35</td>\n",
       "      <td>{'WheelchairAccessible': 'False', 'Restaurants...</td>\n",
       "      <td>...</td>\n",
       "      <td>{'touristy': None, 'hipster': False, 'romantic...</td>\n",
       "      <td>True</td>\n",
       "      <td>u'none'</td>\n",
       "      <td>u'free'</td>\n",
       "      <td>True</td>\n",
       "      <td>True</td>\n",
       "      <td>True</td>\n",
       "      <td>'casual'</td>\n",
       "      <td>False_null</td>\n",
       "      <td>{'dessert': True, 'latenight': None, 'lunch': ...</td>\n",
       "    </tr>\n",
       "    <tr>\n",
       "      <th>150339</th>\n",
       "      <td>2O2K6SXPWv56amqxCECd4w</td>\n",
       "      <td>The Plum Pit</td>\n",
       "      <td>4405 Pennell Rd</td>\n",
       "      <td>Aston</td>\n",
       "      <td>DE</td>\n",
       "      <td>39.856185</td>\n",
       "      <td>-75.427725</td>\n",
       "      <td>4</td>\n",
       "      <td>14</td>\n",
       "      <td>{'RestaurantsDelivery': 'False', 'BusinessAcce...</td>\n",
       "      <td>...</td>\n",
       "      <td>False_null</td>\n",
       "      <td>False_null</td>\n",
       "      <td>'none'</td>\n",
       "      <td>False_null</td>\n",
       "      <td>False_null</td>\n",
       "      <td>True</td>\n",
       "      <td>True</td>\n",
       "      <td>False_null</td>\n",
       "      <td>False_null</td>\n",
       "      <td>False_null</td>\n",
       "    </tr>\n",
       "  </tbody>\n",
       "</table>\n",
       "<p>26008 rows × 30 columns</p>\n",
       "</div>"
      ],
      "text/plain": [
       "                   business_id                           name  \\\n",
       "3       MTSW4McQd7CbVtyjqoe9mw             St Honore Pastries   \n",
       "5       CF33F8-E6oudUQ46HnavjQ                 Sonic Drive-In   \n",
       "11      eEOYSgkmpB90uNA7lDOMRA          Vietnamese Food Truck   \n",
       "12      il_Ro8jwPlHresjw9EGmBg                        Denny's   \n",
       "15      MUTTqe8uqyMdBl186RmNeA                       Tuna Bar   \n",
       "...                        ...                            ...   \n",
       "150313  sf_oQ62L8UEnOOLf00nNGA                      Pizza Hut   \n",
       "150325  l9eLGG9ZKpLJzboZq-9LRQ                           Wawa   \n",
       "150327  cM6V90ExQD6KMSU3rRB5ZA              Dutch Bros Coffee   \n",
       "150336  WnT9NIzQgLlILjPT0kEcsQ  Adelita Taqueria & Restaurant   \n",
       "150339  2O2K6SXPWv56amqxCECd4w                   The Plum Pit   \n",
       "\n",
       "                    address             city state   latitude   longitude  \\\n",
       "3               935 Race St     Philadelphia    PA  39.955505  -75.155564   \n",
       "5             615 S Main St     Ashland City    TN  36.269593  -87.058943   \n",
       "11                                 Tampa Bay    FL  27.955269  -82.456320   \n",
       "12             8901 US 31 S     Indianapolis    IN  39.637133  -86.127217   \n",
       "15              205 Race St     Philadelphia    PA  39.953949  -75.143226   \n",
       "...                     ...              ...   ...        ...         ...   \n",
       "150313     5028 Old Hickory        Hermitage    TN  36.193201  -86.614748   \n",
       "150325      19 N Bishop Ave  Clifton Heights    PA  39.925656  -75.310344   \n",
       "150327  1181 N Milwaukee St            Boise    ID  43.615401 -116.284689   \n",
       "150336        1108 S 9th St     Philadelphia    PA  39.935982  -75.158665   \n",
       "150339      4405 Pennell Rd            Aston    DE  39.856185  -75.427725   \n",
       "\n",
       "        stars  review_count  \\\n",
       "3           4            80   \n",
       "5           2             6   \n",
       "11          4            10   \n",
       "12          2            28   \n",
       "15          4           245   \n",
       "...       ...           ...   \n",
       "150313      3             6   \n",
       "150325      3            11   \n",
       "150327      4            33   \n",
       "150336      4            35   \n",
       "150339      4            14   \n",
       "\n",
       "                                               attributes  ...  \\\n",
       "3       {'RestaurantsDelivery': 'False', 'OutdoorSeati...  ...   \n",
       "5       {'BusinessParking': 'None', 'BusinessAcceptsCr...  ...   \n",
       "11      {'Alcohol': ''none'', 'OutdoorSeating': 'None'...  ...   \n",
       "12      {'RestaurantsReservations': 'False', 'Restaura...  ...   \n",
       "15      {'RestaurantsReservations': 'True', 'Restauran...  ...   \n",
       "...                                                   ...  ...   \n",
       "150313  {'RestaurantsTakeOut': 'True', 'GoodForKids': ...  ...   \n",
       "150325  {'BikeParking': 'True', 'BusinessAcceptsCredit...  ...   \n",
       "150327  {'WiFi': ''free'', 'RestaurantsGoodForGroups':...  ...   \n",
       "150336  {'WheelchairAccessible': 'False', 'Restaurants...  ...   \n",
       "150339  {'RestaurantsDelivery': 'False', 'BusinessAcce...  ...   \n",
       "\n",
       "                                                 Ambience  \\\n",
       "3                                              False_null   \n",
       "5                                                    None   \n",
       "11      {'touristy': False, 'hipster': False, 'romanti...   \n",
       "12      {'touristy': None, 'hipster': None, 'romantic'...   \n",
       "15      {'touristy': False, 'hipster': False, 'romanti...   \n",
       "...                                                   ...   \n",
       "150313  {'touristy': False, 'hipster': False, 'romanti...   \n",
       "150325                                         False_null   \n",
       "150327  {'romantic': False, 'intimate': False, 'classy...   \n",
       "150336  {'touristy': None, 'hipster': False, 'romantic...   \n",
       "150339                                         False_null   \n",
       "\n",
       "       RestaurantsGoodForGroups     Alcohol        WiFi GoodForKids  \\\n",
       "3                    False_null     u'none'     u'free'  False_null   \n",
       "5                          True     u'none'       u'no'        True   \n",
       "11                   False_null      'none'  False_null  False_null   \n",
       "12                         True      'none'       u'no'        True   \n",
       "15                         True  'full_bar'      'free'       False   \n",
       "...                         ...         ...         ...         ...   \n",
       "150313                    False  False_null  False_null       False   \n",
       "150325               False_null  False_null  False_null  False_null   \n",
       "150327                     True     u'none'      'free'        True   \n",
       "150336                     True     u'none'     u'free'        True   \n",
       "150339               False_null      'none'  False_null  False_null   \n",
       "\n",
       "       BikeParking      Caters RestaurantsAttire  NoiseLevel  \\\n",
       "3             True        True        False_null  False_null   \n",
       "5            False       False         u'casual'  False_null   \n",
       "11      False_null  False_null        False_null  False_null   \n",
       "12           False  False_null          'casual'  False_null   \n",
       "15      False_null  False_null          'casual'  u'average'   \n",
       "...            ...         ...               ...         ...   \n",
       "150313  False_null  False_null        False_null  False_null   \n",
       "150325        True        True        False_null  False_null   \n",
       "150327        True       False          'casual'     u'loud'   \n",
       "150336        True        True          'casual'  False_null   \n",
       "150339        True        True        False_null  False_null   \n",
       "\n",
       "                                              GoodForMeal  \n",
       "3                                              False_null  \n",
       "5                                              False_null  \n",
       "11      {'dessert': False, 'latenight': False, 'lunch'...  \n",
       "12      {'dessert': False, 'latenight': False, 'lunch'...  \n",
       "15      {'dessert': True, 'latenight': None, 'lunch': ...  \n",
       "...                                                   ...  \n",
       "150313                                         False_null  \n",
       "150325                                         False_null  \n",
       "150327  {'dessert': False, 'latenight': False, 'lunch'...  \n",
       "150336  {'dessert': True, 'latenight': None, 'lunch': ...  \n",
       "150339                                         False_null  \n",
       "\n",
       "[26008 rows x 30 columns]"
      ]
     },
     "execution_count": 43,
     "metadata": {},
     "output_type": "execute_result"
    }
   ],
   "source": [
    "df_attri = df_with_attribute(df_restaurant,attri_keys)\n",
    "df_attri.rename(columns={'RestaurantsPriceRange2': 'RestaurantsPriceRange'}, inplace=True)\n",
    "df_attri"
   ]
  },
  {
   "cell_type": "code",
   "execution_count": 44,
   "id": "0073cc9c",
   "metadata": {},
   "outputs": [],
   "source": [
    "df_attri.drop(['Ambience','BusinessParking'], axis=1,inplace = True)"
   ]
  },
  {
   "cell_type": "code",
   "execution_count": 45,
   "id": "4cdf3e30",
   "metadata": {},
   "outputs": [
    {
     "data": {
      "text/plain": [
       "26008"
      ]
     },
     "execution_count": 45,
     "metadata": {},
     "output_type": "execute_result"
    }
   ],
   "source": [
    "len(df_attri)"
   ]
  },
  {
   "cell_type": "code",
   "execution_count": 46,
   "id": "dcc45e86",
   "metadata": {},
   "outputs": [],
   "source": [
    "df_attri = df_attri.drop(df_attri.loc[df_attri.iloc[:, 12:27].apply(lambda x: x.str.contains('False_null')).any(axis=1)].index)"
   ]
  },
  {
   "cell_type": "markdown",
   "id": "b18c3b60",
   "metadata": {},
   "source": [
    "## Making labels to identify the high-rated(1) or low-rated(0) in restaurant quality based on the review (Preprocessing)"
   ]
  },
  {
   "cell_type": "code",
   "execution_count": 47,
   "id": "4d22673b",
   "metadata": {},
   "outputs": [],
   "source": [
    "categories = [ '1', '0']\n",
    "star_ranges = [(3, 5), (0, 3)]"
   ]
  },
  {
   "cell_type": "code",
   "execution_count": 48,
   "id": "0eb93582",
   "metadata": {},
   "outputs": [],
   "source": [
    "def label_business(row):\n",
    "    for i, (start, end) in enumerate(star_ranges):\n",
    "        if row['stars'] >= start and row['stars'] < end:\n",
    "            return categories[i]"
   ]
  },
  {
   "cell_type": "code",
   "execution_count": 49,
   "id": "f8f32be6",
   "metadata": {},
   "outputs": [],
   "source": [
    "df_attri['label'] = df_attri.apply(label_business, axis=1)"
   ]
  },
  {
   "cell_type": "code",
   "execution_count": 74,
   "id": "b159df8e",
   "metadata": {},
   "outputs": [
    {
     "data": {
      "text/html": [
       "<div>\n",
       "<style scoped>\n",
       "    .dataframe tbody tr th:only-of-type {\n",
       "        vertical-align: middle;\n",
       "    }\n",
       "\n",
       "    .dataframe tbody tr th {\n",
       "        vertical-align: top;\n",
       "    }\n",
       "\n",
       "    .dataframe thead th {\n",
       "        text-align: right;\n",
       "    }\n",
       "</style>\n",
       "<table border=\"1\" class=\"dataframe\">\n",
       "  <thead>\n",
       "    <tr style=\"text-align: right;\">\n",
       "      <th></th>\n",
       "      <th>business_id</th>\n",
       "      <th>name</th>\n",
       "      <th>address</th>\n",
       "      <th>city</th>\n",
       "      <th>state</th>\n",
       "      <th>latitude</th>\n",
       "      <th>longitude</th>\n",
       "      <th>stars</th>\n",
       "      <th>review_count</th>\n",
       "      <th>attributes</th>\n",
       "      <th>...</th>\n",
       "      <th>RestaurantsGoodForGroups</th>\n",
       "      <th>Alcohol</th>\n",
       "      <th>WiFi</th>\n",
       "      <th>GoodForKids</th>\n",
       "      <th>BikeParking</th>\n",
       "      <th>Caters</th>\n",
       "      <th>RestaurantsAttire</th>\n",
       "      <th>NoiseLevel</th>\n",
       "      <th>GoodForMeal</th>\n",
       "      <th>label</th>\n",
       "    </tr>\n",
       "  </thead>\n",
       "  <tbody>\n",
       "    <tr>\n",
       "      <th>150260</th>\n",
       "      <td>N8fK2E6YNyo04DbVNvgIQw</td>\n",
       "      <td>Sage Mediterranean</td>\n",
       "      <td>150 Bridge St</td>\n",
       "      <td>Phoenixville</td>\n",
       "      <td>PA</td>\n",
       "      <td>40.134042</td>\n",
       "      <td>-75.514528</td>\n",
       "      <td>4</td>\n",
       "      <td>118</td>\n",
       "      <td>{'WiFi': ''no'', 'RestaurantsAttire': ''casual...</td>\n",
       "      <td>...</td>\n",
       "      <td>1</td>\n",
       "      <td>0</td>\n",
       "      <td>0</td>\n",
       "      <td>1</td>\n",
       "      <td>1</td>\n",
       "      <td>0</td>\n",
       "      <td>1</td>\n",
       "      <td>0</td>\n",
       "      <td>{'dessert': False, 'latenight': False, 'lunch'...</td>\n",
       "      <td>1</td>\n",
       "    </tr>\n",
       "    <tr>\n",
       "      <th>150275</th>\n",
       "      <td>IeSD0nMKRFYUTnR5nZH1CQ</td>\n",
       "      <td>HighWire Lounge</td>\n",
       "      <td>14 S Arizona Ave</td>\n",
       "      <td>Tucson</td>\n",
       "      <td>AZ</td>\n",
       "      <td>32.221828</td>\n",
       "      <td>-110.967969</td>\n",
       "      <td>3</td>\n",
       "      <td>111</td>\n",
       "      <td>{'BusinessParking': '{'garage': False, 'street...</td>\n",
       "      <td>...</td>\n",
       "      <td>1</td>\n",
       "      <td>1</td>\n",
       "      <td>0</td>\n",
       "      <td>0</td>\n",
       "      <td>1</td>\n",
       "      <td>0</td>\n",
       "      <td>1</td>\n",
       "      <td>1</td>\n",
       "      <td>{'dessert': False, 'latenight': False, 'lunch'...</td>\n",
       "      <td>1</td>\n",
       "    </tr>\n",
       "    <tr>\n",
       "      <th>150276</th>\n",
       "      <td>Rn3DtOiuJtc3whFySWXs5Q</td>\n",
       "      <td>Japanese Village</td>\n",
       "      <td>2940 Calgary Trail NW</td>\n",
       "      <td>Edmonton</td>\n",
       "      <td>AB</td>\n",
       "      <td>53.463917</td>\n",
       "      <td>-113.494702</td>\n",
       "      <td>3</td>\n",
       "      <td>35</td>\n",
       "      <td>{'RestaurantsAttire': 'u'casual'', 'NoiseLevel...</td>\n",
       "      <td>...</td>\n",
       "      <td>1</td>\n",
       "      <td>1</td>\n",
       "      <td>1</td>\n",
       "      <td>1</td>\n",
       "      <td>0</td>\n",
       "      <td>1</td>\n",
       "      <td>1</td>\n",
       "      <td>3</td>\n",
       "      <td>{'dessert': False, 'latenight': None, 'lunch':...</td>\n",
       "      <td>1</td>\n",
       "    </tr>\n",
       "    <tr>\n",
       "      <th>150306</th>\n",
       "      <td>wVxXRFf10zTTAs11nr4xeA</td>\n",
       "      <td>PrimoHoagies</td>\n",
       "      <td>6024 Ridge Ave</td>\n",
       "      <td>Philadelphia</td>\n",
       "      <td>PA</td>\n",
       "      <td>40.032483</td>\n",
       "      <td>-75.214430</td>\n",
       "      <td>3</td>\n",
       "      <td>55</td>\n",
       "      <td>{'NoiseLevel': 'u'average'', 'RestaurantsTakeO...</td>\n",
       "      <td>...</td>\n",
       "      <td>0</td>\n",
       "      <td>0</td>\n",
       "      <td>0</td>\n",
       "      <td>1</td>\n",
       "      <td>1</td>\n",
       "      <td>1</td>\n",
       "      <td>1</td>\n",
       "      <td>1</td>\n",
       "      <td>{'dessert': False, 'latenight': False, 'lunch'...</td>\n",
       "      <td>1</td>\n",
       "    </tr>\n",
       "    <tr>\n",
       "      <th>150327</th>\n",
       "      <td>cM6V90ExQD6KMSU3rRB5ZA</td>\n",
       "      <td>Dutch Bros Coffee</td>\n",
       "      <td>1181 N Milwaukee St</td>\n",
       "      <td>Boise</td>\n",
       "      <td>ID</td>\n",
       "      <td>43.615401</td>\n",
       "      <td>-116.284689</td>\n",
       "      <td>4</td>\n",
       "      <td>33</td>\n",
       "      <td>{'WiFi': ''free'', 'RestaurantsGoodForGroups':...</td>\n",
       "      <td>...</td>\n",
       "      <td>1</td>\n",
       "      <td>0</td>\n",
       "      <td>1</td>\n",
       "      <td>1</td>\n",
       "      <td>1</td>\n",
       "      <td>0</td>\n",
       "      <td>1</td>\n",
       "      <td>2</td>\n",
       "      <td>{'dessert': False, 'latenight': False, 'lunch'...</td>\n",
       "      <td>1</td>\n",
       "    </tr>\n",
       "  </tbody>\n",
       "</table>\n",
       "<p>5 rows × 29 columns</p>\n",
       "</div>"
      ],
      "text/plain": [
       "                   business_id                name                address  \\\n",
       "150260  N8fK2E6YNyo04DbVNvgIQw  Sage Mediterranean          150 Bridge St   \n",
       "150275  IeSD0nMKRFYUTnR5nZH1CQ     HighWire Lounge       14 S Arizona Ave   \n",
       "150276  Rn3DtOiuJtc3whFySWXs5Q    Japanese Village  2940 Calgary Trail NW   \n",
       "150306  wVxXRFf10zTTAs11nr4xeA        PrimoHoagies         6024 Ridge Ave   \n",
       "150327  cM6V90ExQD6KMSU3rRB5ZA   Dutch Bros Coffee    1181 N Milwaukee St   \n",
       "\n",
       "                city state   latitude   longitude  stars  review_count  \\\n",
       "150260  Phoenixville    PA  40.134042  -75.514528      4           118   \n",
       "150275        Tucson    AZ  32.221828 -110.967969      3           111   \n",
       "150276      Edmonton    AB  53.463917 -113.494702      3            35   \n",
       "150306  Philadelphia    PA  40.032483  -75.214430      3            55   \n",
       "150327         Boise    ID  43.615401 -116.284689      4            33   \n",
       "\n",
       "                                               attributes  ...  \\\n",
       "150260  {'WiFi': ''no'', 'RestaurantsAttire': ''casual...  ...   \n",
       "150275  {'BusinessParking': '{'garage': False, 'street...  ...   \n",
       "150276  {'RestaurantsAttire': 'u'casual'', 'NoiseLevel...  ...   \n",
       "150306  {'NoiseLevel': 'u'average'', 'RestaurantsTakeO...  ...   \n",
       "150327  {'WiFi': ''free'', 'RestaurantsGoodForGroups':...  ...   \n",
       "\n",
       "       RestaurantsGoodForGroups Alcohol  WiFi  GoodForKids  BikeParking  \\\n",
       "150260                        1       0     0            1            1   \n",
       "150275                        1       1     0            0            1   \n",
       "150276                        1       1     1            1            0   \n",
       "150306                        0       0     0            1            1   \n",
       "150327                        1       0     1            1            1   \n",
       "\n",
       "        Caters  RestaurantsAttire  NoiseLevel  \\\n",
       "150260       0                  1           0   \n",
       "150275       0                  1           1   \n",
       "150276       1                  1           3   \n",
       "150306       1                  1           1   \n",
       "150327       0                  1           2   \n",
       "\n",
       "                                              GoodForMeal  label  \n",
       "150260  {'dessert': False, 'latenight': False, 'lunch'...      1  \n",
       "150275  {'dessert': False, 'latenight': False, 'lunch'...      1  \n",
       "150276  {'dessert': False, 'latenight': None, 'lunch':...      1  \n",
       "150306  {'dessert': False, 'latenight': False, 'lunch'...      1  \n",
       "150327  {'dessert': False, 'latenight': False, 'lunch'...      1  \n",
       "\n",
       "[5 rows x 29 columns]"
      ]
     },
     "execution_count": 74,
     "metadata": {},
     "output_type": "execute_result"
    }
   ],
   "source": [
    "df_attri.tail()"
   ]
  },
  {
   "cell_type": "code",
   "execution_count": 51,
   "id": "8fc6db47",
   "metadata": {},
   "outputs": [
    {
     "data": {
      "text/html": [
       "<div>\n",
       "<style scoped>\n",
       "    .dataframe tbody tr th:only-of-type {\n",
       "        vertical-align: middle;\n",
       "    }\n",
       "\n",
       "    .dataframe tbody tr th {\n",
       "        vertical-align: top;\n",
       "    }\n",
       "\n",
       "    .dataframe thead th {\n",
       "        text-align: right;\n",
       "    }\n",
       "</style>\n",
       "<table border=\"1\" class=\"dataframe\">\n",
       "  <thead>\n",
       "    <tr style=\"text-align: right;\">\n",
       "      <th></th>\n",
       "      <th>RestaurantsTakeOut</th>\n",
       "      <th>RestaurantsDelivery</th>\n",
       "      <th>BusinessAcceptsCreditCards</th>\n",
       "      <th>RestaurantsPriceRange</th>\n",
       "      <th>OutdoorSeating</th>\n",
       "      <th>HasTV</th>\n",
       "      <th>RestaurantsReservations</th>\n",
       "      <th>RestaurantsGoodForGroups</th>\n",
       "      <th>Alcohol</th>\n",
       "      <th>WiFi</th>\n",
       "      <th>GoodForKids</th>\n",
       "      <th>BikeParking</th>\n",
       "      <th>Caters</th>\n",
       "      <th>RestaurantsAttire</th>\n",
       "      <th>NoiseLevel</th>\n",
       "    </tr>\n",
       "  </thead>\n",
       "  <tbody>\n",
       "    <tr>\n",
       "      <th>19</th>\n",
       "      <td>True</td>\n",
       "      <td>None</td>\n",
       "      <td>True</td>\n",
       "      <td>1</td>\n",
       "      <td>None</td>\n",
       "      <td>True</td>\n",
       "      <td>False</td>\n",
       "      <td>False</td>\n",
       "      <td>u'none'</td>\n",
       "      <td>u'no'</td>\n",
       "      <td>True</td>\n",
       "      <td>True</td>\n",
       "      <td>True</td>\n",
       "      <td>u'casual'</td>\n",
       "      <td>u'quiet'</td>\n",
       "    </tr>\n",
       "    <tr>\n",
       "      <th>33</th>\n",
       "      <td>True</td>\n",
       "      <td>True</td>\n",
       "      <td>True</td>\n",
       "      <td>1</td>\n",
       "      <td>False</td>\n",
       "      <td>True</td>\n",
       "      <td>False</td>\n",
       "      <td>True</td>\n",
       "      <td>u'none'</td>\n",
       "      <td>u'no'</td>\n",
       "      <td>True</td>\n",
       "      <td>True</td>\n",
       "      <td>True</td>\n",
       "      <td>u'casual'</td>\n",
       "      <td>u'average'</td>\n",
       "    </tr>\n",
       "    <tr>\n",
       "      <th>41</th>\n",
       "      <td>True</td>\n",
       "      <td>False</td>\n",
       "      <td>True</td>\n",
       "      <td>2</td>\n",
       "      <td>True</td>\n",
       "      <td>True</td>\n",
       "      <td>True</td>\n",
       "      <td>True</td>\n",
       "      <td>u'full_bar'</td>\n",
       "      <td>'free'</td>\n",
       "      <td>True</td>\n",
       "      <td>True</td>\n",
       "      <td>True</td>\n",
       "      <td>u'casual'</td>\n",
       "      <td>u'average'</td>\n",
       "    </tr>\n",
       "    <tr>\n",
       "      <th>61</th>\n",
       "      <td>True</td>\n",
       "      <td>False</td>\n",
       "      <td>True</td>\n",
       "      <td>2</td>\n",
       "      <td>True</td>\n",
       "      <td>True</td>\n",
       "      <td>False</td>\n",
       "      <td>True</td>\n",
       "      <td>'full_bar'</td>\n",
       "      <td>'free'</td>\n",
       "      <td>True</td>\n",
       "      <td>False</td>\n",
       "      <td>False</td>\n",
       "      <td>'casual'</td>\n",
       "      <td>'average'</td>\n",
       "    </tr>\n",
       "    <tr>\n",
       "      <th>79</th>\n",
       "      <td>True</td>\n",
       "      <td>True</td>\n",
       "      <td>True</td>\n",
       "      <td>2</td>\n",
       "      <td>False</td>\n",
       "      <td>True</td>\n",
       "      <td>True</td>\n",
       "      <td>True</td>\n",
       "      <td>u'full_bar'</td>\n",
       "      <td>u'free'</td>\n",
       "      <td>False</td>\n",
       "      <td>True</td>\n",
       "      <td>True</td>\n",
       "      <td>u'casual'</td>\n",
       "      <td>u'average'</td>\n",
       "    </tr>\n",
       "    <tr>\n",
       "      <th>...</th>\n",
       "      <td>...</td>\n",
       "      <td>...</td>\n",
       "      <td>...</td>\n",
       "      <td>...</td>\n",
       "      <td>...</td>\n",
       "      <td>...</td>\n",
       "      <td>...</td>\n",
       "      <td>...</td>\n",
       "      <td>...</td>\n",
       "      <td>...</td>\n",
       "      <td>...</td>\n",
       "      <td>...</td>\n",
       "      <td>...</td>\n",
       "      <td>...</td>\n",
       "      <td>...</td>\n",
       "    </tr>\n",
       "    <tr>\n",
       "      <th>150260</th>\n",
       "      <td>True</td>\n",
       "      <td>True</td>\n",
       "      <td>True</td>\n",
       "      <td>2</td>\n",
       "      <td>False</td>\n",
       "      <td>True</td>\n",
       "      <td>True</td>\n",
       "      <td>True</td>\n",
       "      <td>'none'</td>\n",
       "      <td>'no'</td>\n",
       "      <td>True</td>\n",
       "      <td>True</td>\n",
       "      <td>False</td>\n",
       "      <td>'casual'</td>\n",
       "      <td>u'quiet'</td>\n",
       "    </tr>\n",
       "    <tr>\n",
       "      <th>150275</th>\n",
       "      <td>False</td>\n",
       "      <td>False</td>\n",
       "      <td>True</td>\n",
       "      <td>2</td>\n",
       "      <td>True</td>\n",
       "      <td>True</td>\n",
       "      <td>False</td>\n",
       "      <td>True</td>\n",
       "      <td>'full_bar'</td>\n",
       "      <td>'no'</td>\n",
       "      <td>False</td>\n",
       "      <td>True</td>\n",
       "      <td>False</td>\n",
       "      <td>'casual'</td>\n",
       "      <td>u'average'</td>\n",
       "    </tr>\n",
       "    <tr>\n",
       "      <th>150276</th>\n",
       "      <td>True</td>\n",
       "      <td>True</td>\n",
       "      <td>True</td>\n",
       "      <td>3</td>\n",
       "      <td>False</td>\n",
       "      <td>True</td>\n",
       "      <td>True</td>\n",
       "      <td>True</td>\n",
       "      <td>u'full_bar'</td>\n",
       "      <td>u'free'</td>\n",
       "      <td>True</td>\n",
       "      <td>False</td>\n",
       "      <td>True</td>\n",
       "      <td>u'casual'</td>\n",
       "      <td>u'very_loud'</td>\n",
       "    </tr>\n",
       "    <tr>\n",
       "      <th>150306</th>\n",
       "      <td>True</td>\n",
       "      <td>True</td>\n",
       "      <td>True</td>\n",
       "      <td>2</td>\n",
       "      <td>False</td>\n",
       "      <td>True</td>\n",
       "      <td>False</td>\n",
       "      <td>False</td>\n",
       "      <td>u'none'</td>\n",
       "      <td>'no'</td>\n",
       "      <td>True</td>\n",
       "      <td>True</td>\n",
       "      <td>True</td>\n",
       "      <td>u'casual'</td>\n",
       "      <td>u'average'</td>\n",
       "    </tr>\n",
       "    <tr>\n",
       "      <th>150327</th>\n",
       "      <td>False</td>\n",
       "      <td>False</td>\n",
       "      <td>True</td>\n",
       "      <td>1</td>\n",
       "      <td>True</td>\n",
       "      <td>False</td>\n",
       "      <td>False</td>\n",
       "      <td>True</td>\n",
       "      <td>u'none'</td>\n",
       "      <td>'free'</td>\n",
       "      <td>True</td>\n",
       "      <td>True</td>\n",
       "      <td>False</td>\n",
       "      <td>'casual'</td>\n",
       "      <td>u'loud'</td>\n",
       "    </tr>\n",
       "  </tbody>\n",
       "</table>\n",
       "<p>11854 rows × 15 columns</p>\n",
       "</div>"
      ],
      "text/plain": [
       "       RestaurantsTakeOut RestaurantsDelivery BusinessAcceptsCreditCards  \\\n",
       "19                   True                None                       True   \n",
       "33                   True                True                       True   \n",
       "41                   True               False                       True   \n",
       "61                   True               False                       True   \n",
       "79                   True                True                       True   \n",
       "...                   ...                 ...                        ...   \n",
       "150260               True                True                       True   \n",
       "150275              False               False                       True   \n",
       "150276               True                True                       True   \n",
       "150306               True                True                       True   \n",
       "150327              False               False                       True   \n",
       "\n",
       "       RestaurantsPriceRange OutdoorSeating  HasTV RestaurantsReservations  \\\n",
       "19                         1           None   True                   False   \n",
       "33                         1          False   True                   False   \n",
       "41                         2           True   True                    True   \n",
       "61                         2           True   True                   False   \n",
       "79                         2          False   True                    True   \n",
       "...                      ...            ...    ...                     ...   \n",
       "150260                     2          False   True                    True   \n",
       "150275                     2           True   True                   False   \n",
       "150276                     3          False   True                    True   \n",
       "150306                     2          False   True                   False   \n",
       "150327                     1           True  False                   False   \n",
       "\n",
       "       RestaurantsGoodForGroups      Alcohol     WiFi GoodForKids BikeParking  \\\n",
       "19                        False      u'none'    u'no'        True        True   \n",
       "33                         True      u'none'    u'no'        True        True   \n",
       "41                         True  u'full_bar'   'free'        True        True   \n",
       "61                         True   'full_bar'   'free'        True       False   \n",
       "79                         True  u'full_bar'  u'free'       False        True   \n",
       "...                         ...          ...      ...         ...         ...   \n",
       "150260                     True       'none'     'no'        True        True   \n",
       "150275                     True   'full_bar'     'no'       False        True   \n",
       "150276                     True  u'full_bar'  u'free'        True       False   \n",
       "150306                    False      u'none'     'no'        True        True   \n",
       "150327                     True      u'none'   'free'        True        True   \n",
       "\n",
       "       Caters RestaurantsAttire    NoiseLevel  \n",
       "19       True         u'casual'      u'quiet'  \n",
       "33       True         u'casual'    u'average'  \n",
       "41       True         u'casual'    u'average'  \n",
       "61      False          'casual'     'average'  \n",
       "79       True         u'casual'    u'average'  \n",
       "...       ...               ...           ...  \n",
       "150260  False          'casual'      u'quiet'  \n",
       "150275  False          'casual'    u'average'  \n",
       "150276   True         u'casual'  u'very_loud'  \n",
       "150306   True         u'casual'    u'average'  \n",
       "150327  False          'casual'       u'loud'  \n",
       "\n",
       "[11854 rows x 15 columns]"
      ]
     },
     "execution_count": 51,
     "metadata": {},
     "output_type": "execute_result"
    }
   ],
   "source": [
    "df_attri.iloc[:,12:27]"
   ]
  },
  {
   "cell_type": "code",
   "execution_count": 52,
   "id": "f87730c8",
   "metadata": {},
   "outputs": [
    {
     "data": {
      "text/plain": [
       "array(['1', '2', '3', '4', 'None'], dtype=object)"
      ]
     },
     "execution_count": 52,
     "metadata": {},
     "output_type": "execute_result"
    }
   ],
   "source": [
    "df_attri.RestaurantsPriceRange.unique()"
   ]
  },
  {
   "cell_type": "code",
   "execution_count": 53,
   "id": "64016983",
   "metadata": {},
   "outputs": [
    {
     "name": "stdout",
     "output_type": "stream",
     "text": [
      "RestaurantsTakeOut\n",
      "['True' 'None' 'False']\n",
      "RestaurantsDelivery\n",
      "['None' 'True' 'False']\n",
      "BusinessAcceptsCreditCards\n",
      "['True' 'False' 'None']\n",
      "RestaurantsPriceRange\n",
      "['1' '2' '3' '4' 'None']\n",
      "OutdoorSeating\n",
      "['None' 'False' 'True']\n",
      "HasTV\n",
      "['True' 'False' 'None']\n",
      "RestaurantsReservations\n",
      "['False' 'True' 'None']\n",
      "RestaurantsGoodForGroups\n",
      "['False' 'True']\n",
      "Alcohol\n",
      "[\"u'none'\" \"u'full_bar'\" \"'full_bar'\" \"'none'\" \"u'beer_and_wine'\"\n",
      " \"'beer_and_wine'\" 'None']\n",
      "WiFi\n",
      "[\"u'no'\" \"'free'\" \"u'free'\" \"'no'\" \"u'paid'\" \"'paid'\" 'None']\n",
      "GoodForKids\n",
      "['True' 'False']\n",
      "BikeParking\n",
      "['True' 'False' 'None']\n",
      "Caters\n",
      "['True' 'False' 'None']\n",
      "RestaurantsAttire\n",
      "[\"u'casual'\" \"'casual'\" \"'dressy'\" \"u'dressy'\" \"u'formal'\" \"'formal'\"\n",
      " 'None']\n",
      "NoiseLevel\n",
      "[\"u'quiet'\" \"u'average'\" \"'average'\" \"u'loud'\" \"'quiet'\" \"u'very_loud'\"\n",
      " \"'loud'\" 'None' \"'very_loud'\"]\n"
     ]
    }
   ],
   "source": [
    "for i in range (12,27):\n",
    "    print(df_attri.columns[i])\n",
    "    print(df_attri[df_attri.columns[i]].unique())"
   ]
  },
  {
   "cell_type": "markdown",
   "id": "ef495441",
   "metadata": {},
   "source": [
    "## Cleaning and preprocess the attribute column (Preprocessing)"
   ]
  },
  {
   "cell_type": "code",
   "execution_count": 54,
   "id": "ac4114df",
   "metadata": {},
   "outputs": [
    {
     "name": "stderr",
     "output_type": "stream",
     "text": [
      "C:\\Users\\russe\\AppData\\Local\\Temp/ipykernel_3904/2109051205.py:4: DeprecationWarning: In a future version, `df.iloc[:, i] = newvals` will attempt to set the values inplace instead of always setting a new array. To retain the old behavior, use either `df[df.columns[i]] = newvals` or, if columns are non-unique, `df.isetitem(i, newvals)`\n",
      "  df_attri.iloc[:,12:27] = df_attri.iloc[:,12:27].replace(to_replace='.*rue.*', value=1, regex=True)\n",
      "C:\\Users\\russe\\AppData\\Local\\Temp/ipykernel_3904/2109051205.py:6: DeprecationWarning: In a future version, `df.iloc[:, i] = newvals` will attempt to set the values inplace instead of always setting a new array. To retain the old behavior, use either `df[df.columns[i]] = newvals` or, if columns are non-unique, `df.isetitem(i, newvals)`\n",
      "  df_attri.iloc[:,12:27] = df_attri.iloc[:,12:27].replace(to_replace='.*paid.*', value=1, regex=True)\n",
      "C:\\Users\\russe\\AppData\\Local\\Temp/ipykernel_3904/2109051205.py:8: DeprecationWarning: In a future version, `df.iloc[:, i] = newvals` will attempt to set the values inplace instead of always setting a new array. To retain the old behavior, use either `df[df.columns[i]] = newvals` or, if columns are non-unique, `df.isetitem(i, newvals)`\n",
      "  df_attri.iloc[:,12:27] = df_attri.iloc[:,12:27].replace(to_replace='.*wine.*', value=1, regex=True)\n",
      "C:\\Users\\russe\\AppData\\Local\\Temp/ipykernel_3904/2109051205.py:11: DeprecationWarning: In a future version, `df.iloc[:, i] = newvals` will attempt to set the values inplace instead of always setting a new array. To retain the old behavior, use either `df[df.columns[i]] = newvals` or, if columns are non-unique, `df.isetitem(i, newvals)`\n",
      "  df_attri.iloc[:,12:27] = df_attri.iloc[:,12:27].replace(to_replace='.*casual.*', value=1, regex=True)\n",
      "C:\\Users\\russe\\AppData\\Local\\Temp/ipykernel_3904/2109051205.py:15: DeprecationWarning: In a future version, `df.iloc[:, i] = newvals` will attempt to set the values inplace instead of always setting a new array. To retain the old behavior, use either `df[df.columns[i]] = newvals` or, if columns are non-unique, `df.isetitem(i, newvals)`\n",
      "  df_attri.iloc[:,12:27] = df_attri.iloc[:,12:27].replace(to_replace='.*loud.*', value=2, regex=True)\n"
     ]
    }
   ],
   "source": [
    "df_attri.iloc[:,12:27] = df_attri.iloc[:,12:27].replace(to_replace='.*alse.*', value=0, regex=True)\n",
    "df_attri.iloc[:,12:27] = df_attri.iloc[:,12:27].replace(to_replace='.*one.*', value=0, regex=True)\n",
    "df_attri.iloc[:,12:27] = df_attri.iloc[:,12:27].replace(to_replace='.*no.*', value=0, regex=True)\n",
    "df_attri.iloc[:,12:27] = df_attri.iloc[:,12:27].replace(to_replace='.*rue.*', value=1, regex=True)\n",
    "df_attri.iloc[:,12:27] = df_attri.iloc[:,12:27].replace(to_replace='.*free.*', value=1, regex=True)\n",
    "df_attri.iloc[:,12:27] = df_attri.iloc[:,12:27].replace(to_replace='.*paid.*', value=1, regex=True)\n",
    "df_attri.iloc[:,12:27] = df_attri.iloc[:,12:27].replace(to_replace='.*bar.*', value=1, regex=True)\n",
    "df_attri.iloc[:,12:27] = df_attri.iloc[:,12:27].replace(to_replace='.*wine.*', value=1, regex=True)\n",
    "df_attri.iloc[:,12:27] = df_attri.iloc[:,12:27].replace(to_replace='.*dress.*', value=1, regex=True)\n",
    "df_attri.iloc[:,12:27] = df_attri.iloc[:,12:27].replace(to_replace='.*formal.*', value=1, regex=True)\n",
    "df_attri.iloc[:,12:27] = df_attri.iloc[:,12:27].replace(to_replace='.*casual.*', value=1, regex=True)\n",
    "df_attri.iloc[:,12:27] = df_attri.iloc[:,12:27].replace(to_replace='.*quiet.*', value=0, regex=True)\n",
    "df_attri.iloc[:,12:27] = df_attri.iloc[:,12:27].replace(to_replace='.*avera.*', value=1, regex=True)\n",
    "df_attri.iloc[:,12:27] = df_attri.iloc[:,12:27].replace(to_replace='.*very.*', value=3, regex=True)\n",
    "df_attri.iloc[:,12:27] = df_attri.iloc[:,12:27].replace(to_replace='.*loud.*', value=2, regex=True)"
   ]
  },
  {
   "cell_type": "code",
   "execution_count": 72,
   "id": "76c2f988",
   "metadata": {},
   "outputs": [
    {
     "name": "stdout",
     "output_type": "stream",
     "text": [
      "RestaurantsTakeOut\n",
      "[1 0]\n",
      "RestaurantsDelivery\n",
      "[0 1]\n",
      "BusinessAcceptsCreditCards\n",
      "[1 0]\n",
      "RestaurantsPriceRange\n",
      "[0 1 2 3]\n",
      "OutdoorSeating\n",
      "[0 1]\n",
      "HasTV\n",
      "[1 0]\n",
      "RestaurantsReservations\n",
      "[0 1]\n",
      "RestaurantsGoodForGroups\n",
      "[0 1]\n",
      "Alcohol\n",
      "[0 1]\n",
      "WiFi\n",
      "[0 1]\n",
      "GoodForKids\n",
      "[1 0]\n",
      "BikeParking\n",
      "[1 0]\n",
      "Caters\n",
      "[1 0]\n",
      "RestaurantsAttire\n",
      "[1 0]\n",
      "NoiseLevel\n",
      "[0 1 2 3]\n"
     ]
    }
   ],
   "source": [
    "for i in range (12,27):\n",
    "    print(df_attri.columns[i])\n",
    "    print(df_attri[df_attri.columns[i]].unique())"
   ]
  },
  {
   "cell_type": "code",
   "execution_count": 56,
   "id": "73e4db03",
   "metadata": {},
   "outputs": [],
   "source": [
    "condition = df_attri['RestaurantsPriceRange'] == 0 \n",
    "df_attri = df_attri[~condition] "
   ]
  },
  {
   "cell_type": "code",
   "execution_count": 57,
   "id": "c30f7dd7",
   "metadata": {},
   "outputs": [
    {
     "data": {
      "text/plain": [
       "11853"
      ]
     },
     "execution_count": 57,
     "metadata": {},
     "output_type": "execute_result"
    }
   ],
   "source": [
    "len(df_attri)"
   ]
  },
  {
   "cell_type": "code",
   "execution_count": 58,
   "id": "c4f41007",
   "metadata": {},
   "outputs": [
    {
     "name": "stderr",
     "output_type": "stream",
     "text": [
      "C:\\Users\\russe\\AppData\\Local\\Temp/ipykernel_3904/2544368447.py:1: DeprecationWarning: In a future version, `df.iloc[:, i] = newvals` will attempt to set the values inplace instead of always setting a new array. To retain the old behavior, use either `df[df.columns[i]] = newvals` or, if columns are non-unique, `df.isetitem(i, newvals)`\n",
      "  df_attri.iloc[:,12:27] = df_attri.iloc[:,12:27].astype('int32')\n"
     ]
    }
   ],
   "source": [
    "df_attri.iloc[:,12:27] = df_attri.iloc[:,12:27].astype('int32')"
   ]
  },
  {
   "cell_type": "code",
   "execution_count": 59,
   "id": "9b1cfd34",
   "metadata": {},
   "outputs": [],
   "source": [
    "df_attri['RestaurantsPriceRange'] = df_attri['RestaurantsPriceRange'] - 1"
   ]
  },
  {
   "cell_type": "code",
   "execution_count": 60,
   "id": "8215cc9f",
   "metadata": {},
   "outputs": [
    {
     "data": {
      "text/plain": [
       "business_id                    object\n",
       "name                           object\n",
       "address                        object\n",
       "city                           object\n",
       "state                          object\n",
       "latitude                      float64\n",
       "longitude                     float64\n",
       "stars                           int64\n",
       "review_count                    int64\n",
       "attributes                     object\n",
       "categories                     object\n",
       "hours                          object\n",
       "RestaurantsTakeOut              int32\n",
       "RestaurantsDelivery             int32\n",
       "BusinessAcceptsCreditCards      int32\n",
       "RestaurantsPriceRange           int32\n",
       "OutdoorSeating                  int32\n",
       "HasTV                           int32\n",
       "RestaurantsReservations         int32\n",
       "RestaurantsGoodForGroups        int32\n",
       "Alcohol                         int32\n",
       "WiFi                            int32\n",
       "GoodForKids                     int32\n",
       "BikeParking                     int32\n",
       "Caters                          int32\n",
       "RestaurantsAttire               int32\n",
       "NoiseLevel                      int32\n",
       "GoodForMeal                    object\n",
       "label                          object\n",
       "dtype: object"
      ]
     },
     "execution_count": 60,
     "metadata": {},
     "output_type": "execute_result"
    }
   ],
   "source": [
    "df_attri.dtypes"
   ]
  },
  {
   "cell_type": "code",
   "execution_count": 61,
   "id": "7884839f",
   "metadata": {},
   "outputs": [],
   "source": [
    "df_attri.to_csv(\"restaurants_model.csv\",index=False)"
   ]
  },
  {
   "cell_type": "markdown",
   "id": "87a2ea42",
   "metadata": {},
   "source": [
    "## Machine Learning Classification process"
   ]
  },
  {
   "cell_type": "markdown",
   "id": "a690eda3",
   "metadata": {},
   "source": [
    "## Split test train (ML)"
   ]
  },
  {
   "cell_type": "code",
   "execution_count": 62,
   "id": "029e80ee",
   "metadata": {},
   "outputs": [],
   "source": [
    "from sklearn.model_selection import train_test_split"
   ]
  },
  {
   "cell_type": "code",
   "execution_count": 75,
   "id": "655409bb",
   "metadata": {},
   "outputs": [
    {
     "data": {
      "text/html": [
       "<div>\n",
       "<style scoped>\n",
       "    .dataframe tbody tr th:only-of-type {\n",
       "        vertical-align: middle;\n",
       "    }\n",
       "\n",
       "    .dataframe tbody tr th {\n",
       "        vertical-align: top;\n",
       "    }\n",
       "\n",
       "    .dataframe thead th {\n",
       "        text-align: right;\n",
       "    }\n",
       "</style>\n",
       "<table border=\"1\" class=\"dataframe\">\n",
       "  <thead>\n",
       "    <tr style=\"text-align: right;\">\n",
       "      <th></th>\n",
       "      <th>RestaurantsTakeOut</th>\n",
       "      <th>RestaurantsDelivery</th>\n",
       "      <th>BusinessAcceptsCreditCards</th>\n",
       "      <th>RestaurantsPriceRange</th>\n",
       "      <th>OutdoorSeating</th>\n",
       "      <th>HasTV</th>\n",
       "      <th>RestaurantsReservations</th>\n",
       "      <th>RestaurantsGoodForGroups</th>\n",
       "      <th>Alcohol</th>\n",
       "      <th>WiFi</th>\n",
       "      <th>GoodForKids</th>\n",
       "      <th>BikeParking</th>\n",
       "      <th>Caters</th>\n",
       "      <th>RestaurantsAttire</th>\n",
       "      <th>NoiseLevel</th>\n",
       "    </tr>\n",
       "  </thead>\n",
       "  <tbody>\n",
       "    <tr>\n",
       "      <th>19</th>\n",
       "      <td>1</td>\n",
       "      <td>0</td>\n",
       "      <td>1</td>\n",
       "      <td>0</td>\n",
       "      <td>0</td>\n",
       "      <td>1</td>\n",
       "      <td>0</td>\n",
       "      <td>0</td>\n",
       "      <td>0</td>\n",
       "      <td>0</td>\n",
       "      <td>1</td>\n",
       "      <td>1</td>\n",
       "      <td>1</td>\n",
       "      <td>1</td>\n",
       "      <td>0</td>\n",
       "    </tr>\n",
       "    <tr>\n",
       "      <th>33</th>\n",
       "      <td>1</td>\n",
       "      <td>1</td>\n",
       "      <td>1</td>\n",
       "      <td>0</td>\n",
       "      <td>0</td>\n",
       "      <td>1</td>\n",
       "      <td>0</td>\n",
       "      <td>1</td>\n",
       "      <td>0</td>\n",
       "      <td>0</td>\n",
       "      <td>1</td>\n",
       "      <td>1</td>\n",
       "      <td>1</td>\n",
       "      <td>1</td>\n",
       "      <td>1</td>\n",
       "    </tr>\n",
       "    <tr>\n",
       "      <th>41</th>\n",
       "      <td>1</td>\n",
       "      <td>0</td>\n",
       "      <td>1</td>\n",
       "      <td>1</td>\n",
       "      <td>1</td>\n",
       "      <td>1</td>\n",
       "      <td>1</td>\n",
       "      <td>1</td>\n",
       "      <td>1</td>\n",
       "      <td>1</td>\n",
       "      <td>1</td>\n",
       "      <td>1</td>\n",
       "      <td>1</td>\n",
       "      <td>1</td>\n",
       "      <td>1</td>\n",
       "    </tr>\n",
       "    <tr>\n",
       "      <th>61</th>\n",
       "      <td>1</td>\n",
       "      <td>0</td>\n",
       "      <td>1</td>\n",
       "      <td>1</td>\n",
       "      <td>1</td>\n",
       "      <td>1</td>\n",
       "      <td>0</td>\n",
       "      <td>1</td>\n",
       "      <td>1</td>\n",
       "      <td>1</td>\n",
       "      <td>1</td>\n",
       "      <td>0</td>\n",
       "      <td>0</td>\n",
       "      <td>1</td>\n",
       "      <td>1</td>\n",
       "    </tr>\n",
       "    <tr>\n",
       "      <th>79</th>\n",
       "      <td>1</td>\n",
       "      <td>1</td>\n",
       "      <td>1</td>\n",
       "      <td>1</td>\n",
       "      <td>0</td>\n",
       "      <td>1</td>\n",
       "      <td>1</td>\n",
       "      <td>1</td>\n",
       "      <td>1</td>\n",
       "      <td>1</td>\n",
       "      <td>0</td>\n",
       "      <td>1</td>\n",
       "      <td>1</td>\n",
       "      <td>1</td>\n",
       "      <td>1</td>\n",
       "    </tr>\n",
       "  </tbody>\n",
       "</table>\n",
       "</div>"
      ],
      "text/plain": [
       "    RestaurantsTakeOut  RestaurantsDelivery  BusinessAcceptsCreditCards  \\\n",
       "19                   1                    0                           1   \n",
       "33                   1                    1                           1   \n",
       "41                   1                    0                           1   \n",
       "61                   1                    0                           1   \n",
       "79                   1                    1                           1   \n",
       "\n",
       "    RestaurantsPriceRange  OutdoorSeating  HasTV  RestaurantsReservations  \\\n",
       "19                      0               0      1                        0   \n",
       "33                      0               0      1                        0   \n",
       "41                      1               1      1                        1   \n",
       "61                      1               1      1                        0   \n",
       "79                      1               0      1                        1   \n",
       "\n",
       "    RestaurantsGoodForGroups  Alcohol  WiFi  GoodForKids  BikeParking  Caters  \\\n",
       "19                         0        0     0            1            1       1   \n",
       "33                         1        0     0            1            1       1   \n",
       "41                         1        1     1            1            1       1   \n",
       "61                         1        1     1            1            0       0   \n",
       "79                         1        1     1            0            1       1   \n",
       "\n",
       "    RestaurantsAttire  NoiseLevel  \n",
       "19                  1           0  \n",
       "33                  1           1  \n",
       "41                  1           1  \n",
       "61                  1           1  \n",
       "79                  1           1  "
      ]
     },
     "execution_count": 75,
     "metadata": {},
     "output_type": "execute_result"
    }
   ],
   "source": [
    "X = df_attri.iloc[:,12:27]\n",
    "X.head()"
   ]
  },
  {
   "cell_type": "code",
   "execution_count": 76,
   "id": "246e210c",
   "metadata": {},
   "outputs": [
    {
     "data": {
      "text/plain": [
       "19    1\n",
       "33    1\n",
       "41    1\n",
       "61    1\n",
       "79    1\n",
       "Name: label, dtype: object"
      ]
     },
     "execution_count": 76,
     "metadata": {},
     "output_type": "execute_result"
    }
   ],
   "source": [
    "y = df_attri.label\n",
    "y.head()"
   ]
  },
  {
   "cell_type": "code",
   "execution_count": 65,
   "id": "6d28d820",
   "metadata": {},
   "outputs": [],
   "source": [
    "X_train, X_test, y_train, y_test = train_test_split(X, y, test_size=0.30)"
   ]
  },
  {
   "cell_type": "markdown",
   "id": "582ac1ae",
   "metadata": {},
   "source": [
    "## Build a function to get best model and hyper parameters  (ML)"
   ]
  },
  {
   "cell_type": "code",
   "execution_count": 66,
   "id": "4d2dd28b",
   "metadata": {},
   "outputs": [],
   "source": [
    "from sklearn.linear_model import LogisticRegression\n",
    "from sklearn.tree import DecisionTreeClassifier\n",
    "from sklearn.ensemble import RandomForestClassifier\n",
    "from sklearn.svm import SVC\n",
    "from sklearn.model_selection import GridSearchCV\n",
    "from sklearn.metrics import accuracy_score"
   ]
  },
  {
   "cell_type": "code",
   "execution_count": 67,
   "id": "1e0912e3",
   "metadata": {},
   "outputs": [],
   "source": [
    "def best_hyperparams(X_train, y_train, X_test, y_test):\n",
    "    # Define parameter grids for each model\n",
    "    lr_params = {'C': [0.1, 1, 10], 'penalty': ['l1', 'l2']}\n",
    "    dt_params = {'max_depth': [1, 5, 10], 'min_samples_split': [2, 5, 10]}\n",
    "    rf_params = {'n_estimators': [100, 200, 500], 'max_depth': [10, 20, None]}\n",
    "    svm_params = {'C': [0.1, 1, 10], 'kernel': ['linear', 'rbf']}\n",
    "    # Create a dictionary with the parameter grids for each model\n",
    "    param_grids = {'Logistic Regression': lr_params,\n",
    "                   'Decision Tree': dt_params,\n",
    "                   'Random Forest': rf_params,\n",
    "                   'Support Vector Machines': svm_params}\n",
    "    best_params = {}\n",
    "    for model_name, params in param_grids.items():\n",
    "        if model_name == 'Logistic Regression':\n",
    "            clf = GridSearchCV(estimator=LogisticRegression(), param_grid=params, cv=5)\n",
    "        elif model_name == 'Decision Tree':\n",
    "            clf = GridSearchCV(estimator=DecisionTreeClassifier(), param_grid=params, cv=5)\n",
    "        elif model_name == 'Random Forest':\n",
    "            clf = GridSearchCV(estimator=RandomForestClassifier(), param_grid=params, cv=5)\n",
    "        elif model_name == 'Support Vector Machines':\n",
    "            clf = GridSearchCV(estimator=SVC(), param_grid=params, cv=5)\n",
    "        clf.fit(X_train, y_train)\n",
    "        y_pred = clf.predict(X_test)\n",
    "        score = accuracy_score(y_test, y_pred)\n",
    "        best_params[model_name] = [clf.best_params_, score]\n",
    "    # Convert the results to a pandas DataFrame\n",
    "    results_df = pd.DataFrame.from_dict(best_params, orient='index', columns=['Best Parameters', 'Accuracy Score'])\n",
    "    results_df.index.name = 'Model'\n",
    "    return results_df"
   ]
  },
  {
   "cell_type": "code",
   "execution_count": 68,
   "id": "5ca2d19f",
   "metadata": {},
   "outputs": [
    {
     "name": "stderr",
     "output_type": "stream",
     "text": [
      "C:\\Users\\russe\\AppData\\Local\\Programs\\Python\\Python39\\lib\\site-packages\\sklearn\\model_selection\\_validation.py:378: FitFailedWarning: \n",
      "15 fits failed out of a total of 30.\n",
      "The score on these train-test partitions for these parameters will be set to nan.\n",
      "If these failures are not expected, you can try to debug them by setting error_score='raise'.\n",
      "\n",
      "Below are more details about the failures:\n",
      "--------------------------------------------------------------------------------\n",
      "15 fits failed with the following error:\n",
      "Traceback (most recent call last):\n",
      "  File \"C:\\Users\\russe\\AppData\\Local\\Programs\\Python\\Python39\\lib\\site-packages\\sklearn\\model_selection\\_validation.py\", line 686, in _fit_and_score\n",
      "    estimator.fit(X_train, y_train, **fit_params)\n",
      "  File \"C:\\Users\\russe\\AppData\\Local\\Programs\\Python\\Python39\\lib\\site-packages\\sklearn\\linear_model\\_logistic.py\", line 1091, in fit\n",
      "    solver = _check_solver(self.solver, self.penalty, self.dual)\n",
      "  File \"C:\\Users\\russe\\AppData\\Local\\Programs\\Python\\Python39\\lib\\site-packages\\sklearn\\linear_model\\_logistic.py\", line 61, in _check_solver\n",
      "    raise ValueError(\n",
      "ValueError: Solver lbfgs supports only 'l2' or 'none' penalties, got l1 penalty.\n",
      "\n",
      "  warnings.warn(some_fits_failed_message, FitFailedWarning)\n",
      "C:\\Users\\russe\\AppData\\Local\\Programs\\Python\\Python39\\lib\\site-packages\\sklearn\\model_selection\\_search.py:953: UserWarning: One or more of the test scores are non-finite: [       nan 0.85898545        nan 0.85765979        nan 0.85753916]\n",
      "  warnings.warn(\n"
     ]
    },
    {
     "name": "stdout",
     "output_type": "stream",
     "text": [
      "                                                    Best Parameters  \\\n",
      "Model                                                                 \n",
      "Logistic Regression                     {'C': 0.1, 'penalty': 'l2'}   \n",
      "Decision Tree            {'max_depth': 10, 'min_samples_split': 10}   \n",
      "Random Forest                {'max_depth': 10, 'n_estimators': 200}   \n",
      "Support Vector Machines                   {'C': 1, 'kernel': 'rbf'}   \n",
      "\n",
      "                         Accuracy Score  \n",
      "Model                                    \n",
      "Logistic Regression            0.856018  \n",
      "Decision Tree                  0.850112  \n",
      "Random Forest                  0.859955  \n",
      "Support Vector Machines        0.857987  \n"
     ]
    }
   ],
   "source": [
    "results_df = best_hyperparams(X_train, y_train, X_test, y_test)\n",
    "print(results_df)"
   ]
  }
 ],
 "metadata": {
  "kernelspec": {
   "display_name": "Python 3 (ipykernel)",
   "language": "python",
   "name": "python3"
  },
  "language_info": {
   "codemirror_mode": {
    "name": "ipython",
    "version": 3
   },
   "file_extension": ".py",
   "mimetype": "text/x-python",
   "name": "python",
   "nbconvert_exporter": "python",
   "pygments_lexer": "ipython3",
   "version": "3.9.7"
  }
 },
 "nbformat": 4,
 "nbformat_minor": 5
}
